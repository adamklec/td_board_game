{
 "cells": [
  {
   "cell_type": "code",
   "execution_count": 1,
   "metadata": {},
   "outputs": [],
   "source": [
    "import tensorflow as tf\n",
    "import chess\n",
    "from chess.pgn import read_game\n",
    "import numpy as np\n",
    "from anytree import Node\n",
    "from network import ChessNeuralNetwork\n",
    "from game import Chess\n",
    "\n",
    "import time\n",
    "from agents.nn_agent import NeuralNetworkAgent"
   ]
  },
  {
   "cell_type": "code",
   "execution_count": 2,
   "metadata": {
    "collapsed": true
   },
   "outputs": [],
   "source": [
    "def board_generator():\n",
    "    pgn = open(\"millionbase-2.22.pgn\")\n",
    "    while True:\n",
    "        game = read_game(pgn)\n",
    "        if game and len(list(game.main_line()))>0:\n",
    "            node = game\n",
    "            move_number = np.random.randint(0, high=len(list(game.main_line())) - 1) #don't take the last move\n",
    "            while 2*(node.board().fullmove_number-1)+int(not node.board().turn) < move_number:\n",
    "                next_node = node.variation(0)\n",
    "                node = next_node\n",
    "            yield node.board()\n",
    "        else:\n",
    "            pgn.seek(0)"
   ]
  },
  {
   "cell_type": "code",
   "execution_count": 3,
   "metadata": {
    "collapsed": true
   },
   "outputs": [],
   "source": [
    "def simple_value(board):\n",
    "    values = [1, 3, 3, 5, 9]\n",
    "    s = 0\n",
    "    for i, v in enumerate(values):\n",
    "        s += Chess.pad_bitmask(board.pieces_mask(i + 1, 1)).sum() * v\n",
    "        s -= Chess.pad_bitmask(board.pieces_mask(i + 1, 0)).sum() * v\n",
    "    return np.tanh(s / 5)"
   ]
  },
  {
   "cell_type": "code",
   "execution_count": 4,
   "metadata": {
    "collapsed": true
   },
   "outputs": [],
   "source": [
    "def alpha_beta(node, depth, alpha, beta):\n",
    "    if depth == 0 or node.board.is_game_over():\n",
    "        return simple_value(node.board), node\n",
    "\n",
    "    legal_moves = list(node.board.legal_moves)\n",
    "    child_boards = [node.board.copy() for _ in legal_moves]\n",
    "    children = []\n",
    "    for idx in range(len(node.board.legal_moves)):\n",
    "        child_boards[idx].push(legal_moves[idx])\n",
    "        child = Node(str(legal_moves[idx]), parent=node, board=child_boards[idx], move=legal_moves[idx])\n",
    "        children.append(child)\n",
    "    n = node\n",
    "    if node.board.turn:\n",
    "        v = -100000\n",
    "        for child in children:\n",
    "            vv, nn = alpha_beta(child, depth - 1, alpha, beta)\n",
    "            if vv > v:\n",
    "                v = vv\n",
    "                n = nn\n",
    "            alpha = max(alpha, v)\n",
    "            if beta <= alpha:\n",
    "                break  # (* β cut-off *)\n",
    "        return v, n\n",
    "    else:\n",
    "        v = 100000\n",
    "        for child in children:\n",
    "            vv, nn = alpha_beta(child, depth - 1, alpha, beta)\n",
    "            if vv < v:\n",
    "                v = vv\n",
    "                n = nn\n",
    "            beta = min(beta, v)\n",
    "            if beta <= alpha:\n",
    "                break  # (* α cut-off *)\n",
    "        return v, n"
   ]
  },
  {
   "cell_type": "code",
   "execution_count": 6,
   "metadata": {
    "collapsed": true
   },
   "outputs": [],
   "source": [
    "sess = tf.Session()\n",
    "network = ChessNeuralNetwork()\n",
    "agent = NeuralNetworkAgent('master', network, create_trainer=False)\n",
    "sess.run(tf.global_variables_initializer())"
   ]
  },
  {
   "cell_type": "code",
   "execution_count": 13,
   "metadata": {},
   "outputs": [
    {
     "name": "stdout",
     "output_type": "stream",
     "text": [
      "d2d4\n",
      "g8f6\n",
      "c2c4\n",
      "g7g6\n",
      "b1c3\n",
      "d7d5\n",
      "c1f4\n"
     ]
    }
   ],
   "source": [
    "for m in b.move_stack"
   ]
  },
  {
   "cell_type": "code",
   "execution_count": 5,
   "metadata": {},
   "outputs": [
    {
     "name": "stdout",
     "output_type": "stream",
     "text": [
      "0.02045607566833496 seconds\n",
      "-0.197375320225 Node('/root/d5c4', board=Board('rnbqkb1r/ppp1pp1p/5np1/8/2pP1B2/2N5/PP2PPPP/R2QKBNR w KQkq - 0 5'), move=Move.from_uci('d5c4'))\n"
     ]
    }
   ],
   "source": [
    "gen = board_generator()\n",
    "b = gen.__next__()\n",
    "root = Node('root', board=b, move=None)\n",
    "t0 = time.time()\n",
    "v, n = alpha_beta(root, 1, -100000, 100000)\n",
    "print(time.time() - t0, 'seconds')\n",
    "print(v, n)"
   ]
  },
  {
   "cell_type": "code",
   "execution_count": 9,
   "metadata": {},
   "outputs": [
    {
     "name": "stdout",
     "output_type": "stream",
     "text": [
      "b . r r . b . .\n",
      "p . . . . k . .\n",
      ". . . . R . . p\n",
      ". . p p . . B .\n",
      ". . . . . . . .\n",
      ". N P . . . . .\n",
      "P . . . . P P P\n",
      ". . . . R . K . \n",
      "\n",
      " 0.319721\n",
      "b . r r . b . .\n",
      "p . . . . k . .\n",
      ". . . . R . . p\n",
      ". . p p . . B .\n",
      ". . . . . . . .\n",
      ". N P . . . . .\n",
      "P . . . . P P P\n",
      ". . . . R . K . \n",
      "\n",
      " 0.319721\n",
      "True\n"
     ]
    }
   ],
   "source": [
    "b = gen.__next__()\n",
    "boards_and_moves = [(b.copy(), move) for move in b.legal_moves]\n",
    "for board, move in boards_and_moves:\n",
    "    board.push(move) \n",
    "boards = list(zip(*boards_and_moves))[0]\n",
    "fvs = np.vstack([Chess.make_feature_vector(board) for board in boards])\n",
    "values = sess.run(network.value, feed_dict={network.feature_vector_: fvs})\n",
    "if b.turn:\n",
    "    move_idx = np.argmax(values)\n",
    "else:\n",
    "    move_idx = np.argmin(values)\n",
    "\n",
    "print(boards[move_idx], '\\n\\n', np.max(values))\n",
    "\n",
    "env = Chess(b)\n",
    "move, value = agent.get_move(sess, env, 1)\n",
    "env.make_move(move)\n",
    "print(env.board, '\\n\\n', value)\n",
    "print(boards[move_idx] == env.board)"
   ]
  },
  {
   "cell_type": "code",
   "execution_count": 10,
   "metadata": {
    "collapsed": true
   },
   "outputs": [],
   "source": []
  },
  {
   "cell_type": "code",
   "execution_count": 7,
   "metadata": {
    "collapsed": true
   },
   "outputs": [],
   "source": [
    "def make_feature_vector(board):\n",
    "    piece_matrix = np.zeros((64, len(chess.PIECE_TYPES) + 1, len(chess.COLORS)))\n",
    "\n",
    "    # piece positions\n",
    "    for piece in chess.PIECE_TYPES:\n",
    "        for color in chess.COLORS:\n",
    "            piece_matrix[:, piece, int(color)] = ChessNeuralNetwork.pad_bitmask(board.pieces_mask(piece, color))\n",
    "\n",
    "    # en passant target squares\n",
    "    if board.ep_square:\n",
    "        piece_matrix[board.ep_square, -1, int(board.turn)] = 1\n",
    "\n",
    "    reshaped_piece_matrix = piece_matrix.reshape((64, (len(chess.PIECE_TYPES) + 1) * len(chess.COLORS)))\n",
    "    feature_array = np.zeros((64, (len(chess.PIECE_TYPES) + 1) * len(chess.COLORS) + 2))\n",
    "    feature_array[:, :-2] = reshaped_piece_matrix\n",
    "\n",
    "    # empty squares\n",
    "    empty_squares = (reshaped_piece_matrix.sum(axis=1) == 0)\n",
    "    feature_array[empty_squares, :-2] = 1\n",
    "\n",
    "    # castling rights\n",
    "    feature_array[:, -1] = ChessNeuralNetwork.pad_bitmask(board.castling_rights)\n",
    "\n",
    "    feature_vector = np.zeros((1, 1025))\n",
    "    feature_vector[0, :-1] = np.reshape(feature_array, (1024,))\n",
    "    feature_vector[0, -1] = board.turn\n",
    "\n",
    "    return feature_vector"
   ]
  },
  {
   "cell_type": "code",
   "execution_count": 49,
   "metadata": {
    "collapsed": true
   },
   "outputs": [],
   "source": []
  },
  {
   "cell_type": "code",
   "execution_count": 9,
   "metadata": {},
   "outputs": [
    {
     "name": "stdout",
     "output_type": "stream",
     "text": [
      "-0.197375\n",
      "-0.197375320225\n"
     ]
    }
   ],
   "source": [
    "gen = board_generator()\n",
    "board = gen.__next__()\n",
    "feature_vector = ChessNeuralNetwork.make_feature_vector(board)\n",
    "print(sess.run(network.value, feed_dict={network.feature_vector_: feature_vector})[0,0])\n",
    "print(simple_value(board))"
   ]
  },
  {
   "cell_type": "code",
   "execution_count": 10,
   "metadata": {
    "collapsed": true
   },
   "outputs": [],
   "source": [
    "from random import choice, random\n",
    "\n",
    "def generate_random_fen(density):\n",
    "    pieces = ['p', 'n', 'b', 'r', 'q', 'P', 'N', 'B', 'R', 'Q']\n",
    "    rank_fens = []\n",
    "    for rank in range(8):\n",
    "        rank_fen = ''\n",
    "        empty_count = 0\n",
    "        for file in range(8):\n",
    "            if random() > density:\n",
    "                empty_count += 1\n",
    "            else:\n",
    "                if empty_count > 0:\n",
    "                    rank_fen += str(empty_count)\n",
    "                    empty_count = 0\n",
    "                piece = choice(pieces)\n",
    "                rank_fen += piece\n",
    "        if empty_count > 0:\n",
    "            rank_fen += str(empty_count)\n",
    "        rank_fens.append(rank_fen)\n",
    "    fen = '/'.join(rank_fens)\n",
    "    \n",
    "    if random() < .5:\n",
    "        fen += ' w '\n",
    "    else:\n",
    "        fen += ' b '\n",
    "    casteling_rights = ''\n",
    "    if random() < .5:\n",
    "        casteling_rights += 'K'\n",
    "    if random() < .5:\n",
    "        casteling_rights += 'Q'\n",
    "    if random() < .5:\n",
    "        casteling_rights += 'k'\n",
    "    if random() < .5:\n",
    "        casteling_rights += 'q'\n",
    "    if casteling_rights == '':\n",
    "        casteling_rights = '--'\n",
    "    fen += casteling_rights\n",
    "        \n",
    "    fen += ' - 0 1'\n",
    "    return fen"
   ]
  },
  {
   "cell_type": "code",
   "execution_count": 11,
   "metadata": {
    "collapsed": true
   },
   "outputs": [],
   "source": [
    "def batch_generator(batch_size):\n",
    "    while True:\n",
    "        X = []\n",
    "        y = []\n",
    "        for i in range(batch_size):\n",
    "            fen = generate_random_fen(random())\n",
    "            board = chess.Board(fen)\n",
    "            fv = ChessNeuralNetwork.make_feature_vector(board)\n",
    "            X.append(fv)\n",
    "            y.append(simple_value(board))\n",
    "        yield np.array(X), np.array(y)"
   ]
  },
  {
   "cell_type": "code",
   "execution_count": 12,
   "metadata": {},
   "outputs": [
    {
     "name": "stdout",
     "output_type": "stream",
     "text": [
      "[[[ 0.  0.  0. ...,  0.  1.  1.]]\n",
      "\n",
      " [[ 0.  0.  0. ...,  0.  0.  1.]]\n",
      "\n",
      " [[ 0.  0.  0. ...,  0.  1.  0.]]\n",
      "\n",
      " ..., \n",
      " [[ 0.  0.  0. ...,  0.  1.  0.]]\n",
      "\n",
      " [[ 0.  0.  1. ...,  0.  1.  0.]]\n",
      "\n",
      " [[ 0.  0.  0. ...,  0.  1.  1.]]]\n",
      "[-0.99969858  0.9993293   0.99969858  0.37994896 -0.99986455  0.98367486\n",
      " -0.97574313 -0.53704957 -0.19737532  0.99263152]\n"
     ]
    }
   ],
   "source": [
    "g = batch_generator(10)\n",
    "X, y = g.__next__()\n",
    "print(X)\n",
    "print(y)"
   ]
  },
  {
   "cell_type": "code",
   "execution_count": 22,
   "metadata": {},
   "outputs": [
    {
     "name": "stdout",
     "output_type": "stream",
     "text": [
      "0.761594\n",
      "0.761594155956\n"
     ]
    }
   ],
   "source": [
    "fen = generate_random_fen(.1)\n",
    "board = chess.Board(fen)\n",
    "feature_vector = ChessNeuralNetwork.make_feature_vector(board)\n",
    "print(sess.run(network.value, feed_dict={network.feature_vector_: feature_vector})[0, 0])\n",
    "print(simple_value(board))"
   ]
  },
  {
   "cell_type": "code",
   "execution_count": 23,
   "metadata": {},
   "outputs": [
    {
     "name": "stdout",
     "output_type": "stream",
     "text": [
      ". . p . . . . .\n",
      ". . . . . . . .\n",
      ". Q B . . . . .\n",
      ". . . . . . . N\n",
      ". . . . . . . .\n",
      ". . . . . . . .\n",
      ". . . . . q . .\n",
      ". . . . . . . .\n"
     ]
    }
   ],
   "source": [
    "print(board)"
   ]
  },
  {
   "cell_type": "code",
   "execution_count": 24,
   "metadata": {},
   "outputs": [
    {
     "data": {
      "text/plain": [
       "array([[0, 0, 0, 0, 0, 0, 0, 0],\n",
       "       [0, 0, 0, 0, 0, 0, 0, 0],\n",
       "       [0, 0, 0, 0, 0, 0, 0, 0],\n",
       "       [1, 0, 0, 0, 0, 0, 0, 0],\n",
       "       [0, 0, 0, 0, 0, 0, 0, 0],\n",
       "       [0, 0, 0, 0, 0, 0, 0, 0],\n",
       "       [0, 0, 0, 0, 0, 0, 0, 0],\n",
       "       [0, 0, 0, 0, 0, 0, 0, 0]])"
      ]
     },
     "execution_count": 24,
     "metadata": {},
     "output_type": "execute_result"
    }
   ],
   "source": [
    "ChessNeuralNetwork.pad_bitmask(board.pieces_mask(2, 1)).reshape((8, 8))"
   ]
  },
  {
   "cell_type": "code",
   "execution_count": 17,
   "metadata": {
    "collapsed": true
   },
   "outputs": [],
   "source": [
    "W_1 = np.zeros((1025, 100))\n",
    "pieces = ['p', 'n', 'b', 'r', 'q', 'P', 'N', 'B', 'R', 'Q']\n",
    "values = [-1, -3, -3, -5, -9, 1, 3, 3, 5, 9]\n",
    "for piece, value in zip(pieces, values):\n",
    "    fen = '/'.join([8*piece for _ in range(8)]) + ' b -- - 0 1'\n",
    "    board = chess.Board(fen)\n",
    "    W_1[ChessNeuralNetwork.make_feature_vector(board)[0] == 1, 0] = value"
   ]
  },
  {
   "cell_type": "code",
   "execution_count": 25,
   "metadata": {},
   "outputs": [
    {
     "data": {
      "text/plain": [
       "array([[ 5.,  0.,  0.,  0.,  0.,  0.,  0.,  0.,  0.,  0.,  0.,  0.,  0.,\n",
       "         0.,  0.,  0.,  0.,  0.,  0.,  0.,  0.,  0.,  0.,  0.,  0.,  0.,\n",
       "         0.,  0.,  0.,  0.,  0.,  0.,  0.,  0.,  0.,  0.,  0.,  0.,  0.,\n",
       "         0.,  0.,  0.,  0.,  0.,  0.,  0.,  0.,  0.,  0.,  0.,  0.,  0.,\n",
       "         0.,  0.,  0.,  0.,  0.,  0.,  0.,  0.,  0.,  0.,  0.,  0.,  0.,\n",
       "         0.,  0.,  0.,  0.,  0.,  0.,  0.,  0.,  0.,  0.,  0.,  0.,  0.,\n",
       "         0.,  0.,  0.,  0.,  0.,  0.,  0.,  0.,  0.,  0.,  0.,  0.,  0.,\n",
       "         0.,  0.,  0.,  0.,  0.,  0.,  0.,  0.,  0.]])"
      ]
     },
     "execution_count": 25,
     "metadata": {},
     "output_type": "execute_result"
    }
   ],
   "source": [
    "np.dot(feature_vector, W_1)"
   ]
  },
  {
   "cell_type": "code",
   "execution_count": 39,
   "metadata": {
    "collapsed": true
   },
   "outputs": [],
   "source": [
    "w = sess.run(network.trainable_variables)[0][:-1, :].reshape(64, -1, 100)\\"
   ]
  },
  {
   "cell_type": "code",
   "execution_count": 46,
   "metadata": {},
   "outputs": [
    {
     "data": {
      "text/plain": [
       "array([-1., -1., -1., -1., -1., -1., -1., -1., -1., -1., -1., -1., -1.,\n",
       "       -1., -1., -1., -1., -1., -1., -1., -1., -1., -1., -1., -1., -1.,\n",
       "       -1., -1., -1., -1., -1., -1., -1., -1., -1., -1., -1., -1., -1.,\n",
       "       -1., -1., -1., -1., -1., -1., -1., -1., -1., -1., -1., -1., -1.,\n",
       "       -1., -1., -1., -1., -1., -1., -1., -1., -1., -1., -1., -1.], dtype=float32)"
      ]
     },
     "execution_count": 46,
     "metadata": {},
     "output_type": "execute_result"
    }
   ],
   "source": [
    "w[:, 2, 0]"
   ]
  },
  {
   "cell_type": "code",
   "execution_count": 26,
   "metadata": {},
   "outputs": [
    {
     "data": {
      "text/plain": [
       "array([[ 0.76159418]], dtype=float32)"
      ]
     },
     "execution_count": 26,
     "metadata": {},
     "output_type": "execute_result"
    }
   ],
   "source": [
    "sess.run(network.value, feed_dict={network.feature_vector_: network.make_feature_vector(board)})"
   ]
  },
  {
   "cell_type": "code",
   "execution_count": 30,
   "metadata": {},
   "outputs": [
    {
     "data": {
      "text/plain": [
       "0.76159415595576485"
      ]
     },
     "execution_count": 30,
     "metadata": {},
     "output_type": "execute_result"
    }
   ],
   "source": [
    "np.tanh(5/5)"
   ]
  },
  {
   "cell_type": "code",
   "execution_count": null,
   "metadata": {
    "collapsed": true
   },
   "outputs": [],
   "source": []
  }
 ],
 "metadata": {
  "kernelspec": {
   "display_name": "Python 3",
   "language": "python",
   "name": "python3"
  },
  "language_info": {
   "codemirror_mode": {
    "name": "ipython",
    "version": 3
   },
   "file_extension": ".py",
   "mimetype": "text/x-python",
   "name": "python",
   "nbconvert_exporter": "python",
   "pygments_lexer": "ipython3",
   "version": "3.6.1"
  }
 },
 "nbformat": 4,
 "nbformat_minor": 1
}
