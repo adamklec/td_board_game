{
 "cells": [
  {
   "cell_type": "code",
   "execution_count": 1,
   "metadata": {
    "collapsed": true
   },
   "outputs": [],
   "source": [
    "import tensorflow as tf\n",
    "import chess\n",
    "from chess.pgn import read_game\n",
    "import numpy as np\n",
    "from anytree import Node\n",
    "from network import ChessNeuralNetwork\n",
    "from game import Chess\n",
    "\n",
    "import time\n",
    "from agents.nn_agent import NeuralNetworkAgent"
   ]
  },
  {
   "cell_type": "code",
   "execution_count": 2,
   "metadata": {
    "collapsed": true
   },
   "outputs": [],
   "source": [
    "def board_generator():\n",
    "    pgn = open(\"millionbase-2.22.pgn\")\n",
    "    while True:\n",
    "        game = read_game(pgn)\n",
    "        if game and len(list(game.main_line()))>0:\n",
    "            node = game\n",
    "            move_number = np.random.randint(0, high=len(list(game.main_line())) - 1) #don't take the last move\n",
    "            while 2*(node.board().fullmove_number-1)+int(not node.board().turn) < move_number:\n",
    "                next_node = node.variation(0)\n",
    "                node = next_node\n",
    "            yield node.board()\n",
    "        else:\n",
    "            pgn.seek(0)"
   ]
  },
  {
   "cell_type": "code",
   "execution_count": 3,
   "metadata": {
    "collapsed": true
   },
   "outputs": [],
   "source": [
    "def simple_value(board):\n",
    "    values = [1, 3, 3, 5, 9]\n",
    "    s = 0\n",
    "    for i, v in enumerate(values):\n",
    "        s += Chess.pad_bitmask(board.pieces_mask(i + 1, 1)).sum() * v\n",
    "        s -= Chess.pad_bitmask(board.pieces_mask(i + 1, 0)).sum() * v\n",
    "    return np.tanh(s / 5)"
   ]
  },
  {
   "cell_type": "code",
   "execution_count": 4,
   "metadata": {
    "collapsed": true
   },
   "outputs": [],
   "source": [
    "def alpha_beta(node, depth, alpha, beta):\n",
    "    if depth == 0 or node.board.is_game_over():\n",
    "        return simple_value(node.board), node\n",
    "\n",
    "    legal_moves = list(node.board.legal_moves)\n",
    "    child_boards = [node.board.copy() for _ in legal_moves]\n",
    "    children = []\n",
    "    for idx in range(len(node.board.legal_moves)):\n",
    "        child_boards[idx].push(legal_moves[idx])\n",
    "        child = Node(str(legal_moves[idx]), parent=node, board=child_boards[idx], move=legal_moves[idx])\n",
    "        children.append(child)\n",
    "    n = node\n",
    "    if node.board.turn:\n",
    "        v = -100000\n",
    "        for child in children:\n",
    "            vv, nn = alpha_beta(child, depth - 1, alpha, beta)\n",
    "            if vv > v:\n",
    "                v = vv\n",
    "                n = nn\n",
    "            alpha = max(alpha, v)\n",
    "            if beta <= alpha:\n",
    "                break  # (* β cut-off *)\n",
    "        return v, n\n",
    "    else:\n",
    "        v = 100000\n",
    "        for child in children:\n",
    "            vv, nn = alpha_beta(child, depth - 1, alpha, beta)\n",
    "            if vv < v:\n",
    "                v = vv\n",
    "                n = nn\n",
    "            beta = min(beta, v)\n",
    "            if beta <= alpha:\n",
    "                break  # (* α cut-off *)\n",
    "        return v, n"
   ]
  },
  {
   "cell_type": "code",
   "execution_count": 6,
   "metadata": {
    "collapsed": true
   },
   "outputs": [],
   "source": [
    "sess = tf.Session()\n",
    "network = ChessNeuralNetwork()\n",
    "agent = NeuralNetworkAgent('master', network, create_trainer=False)\n",
    "sess.run(tf.global_variables_initializer())"
   ]
  },
  {
   "cell_type": "code",
   "execution_count": 13,
   "metadata": {},
   "outputs": [
    {
     "name": "stdout",
     "output_type": "stream",
     "text": [
      "d2d4\n",
      "g8f6\n",
      "c2c4\n",
      "g7g6\n",
      "b1c3\n",
      "d7d5\n",
      "c1f4\n"
     ]
    }
   ],
   "source": [
    "for m in b.move_stack"
   ]
  },
  {
   "cell_type": "code",
   "execution_count": 39,
   "metadata": {
    "collapsed": true
   },
   "outputs": [
    {
     "name": "stdout",
     "output_type": "stream",
     "text": [
      "2\n",
      "1\n",
      "0\n",
      "here\n",
      "-1\n",
      "-2\n",
      "-3\n",
      "-4\n",
      "-5\n",
      "-6\n",
      "-7\n",
      "-8\n",
      "-9\n",
      "-10\n",
      "-11\n",
      "-12\n",
      "-13\n",
      "-14\n",
      "-15\n",
      "-16\n",
      "-17\n",
      "-18\n",
      "-19\n",
      "-20\n",
      "-21\n",
      "-22\n",
      "-23\n",
      "-24\n",
      "-25\n",
      "-26\n",
      "-27\n",
      "-28\n",
      "-29\n",
      "-30\n",
      "-31\n",
      "-32\n",
      "-33\n",
      "-34\n",
      "-35\n",
      "-36\n",
      "-37\n",
      "-38\n",
      "-39\n",
      "-40\n",
      "-41\n",
      "-42\n",
      "-43\n",
      "-44\n",
      "-45\n",
      "-46\n",
      "-47\n",
      "-48\n",
      "-49\n",
      "-50\n",
      "-51\n",
      "-52\n",
      "-53\n",
      "-54\n",
      "-55\n",
      "-56\n",
      "-57\n",
      "-58\n",
      "-59\n",
      "-60\n",
      "-61\n",
      "-62\n",
      "-63\n",
      "-64\n",
      "-65\n",
      "-66\n",
      "-67\n",
      "-68\n",
      "-69\n",
      "-70\n",
      "-71\n",
      "-72\n",
      "-73\n",
      "-74\n",
      "-75\n",
      "-76\n",
      "-77\n",
      "-78\n",
      "-79\n",
      "-80\n",
      "-81\n",
      "-82\n",
      "-83\n",
      "-84\n",
      "-85\n",
      "-86\n",
      "-87\n",
      "-88\n",
      "-89\n",
      "-90\n",
      "-91\n",
      "-92\n",
      "-93\n",
      "-94\n",
      "-95\n",
      "-96\n",
      "-97\n",
      "-98\n",
      "-99\n",
      "-100\n",
      "-101\n",
      "-102\n",
      "-103\n",
      "-104\n",
      "-105\n",
      "-106\n",
      "-107\n",
      "-108\n",
      "-109\n",
      "-110\n",
      "-111\n",
      "-112\n",
      "-113\n",
      "-114\n",
      "-115\n",
      "-116\n",
      "-117\n",
      "-118\n",
      "-119\n",
      "-120\n",
      "-121\n",
      "-122\n",
      "-123\n",
      "-124\n",
      "-125\n",
      "-126\n",
      "-127\n",
      "-128\n",
      "-129\n",
      "-130\n",
      "-131\n",
      "-132\n",
      "-133\n",
      "-134\n",
      "-135\n",
      "-136\n",
      "-137\n",
      "-138\n",
      "-139\n",
      "-140\n",
      "-141\n",
      "-142\n",
      "-143\n",
      "-144\n",
      "-145\n",
      "-146\n",
      "-147\n",
      "-148\n",
      "-149\n",
      "-150\n",
      "-151\n",
      "-152\n",
      "-153\n",
      "-154\n",
      "-155\n",
      "-156\n",
      "-157\n",
      "-158\n",
      "-159\n",
      "-160\n",
      "-161\n",
      "-162\n",
      "-163\n",
      "-164\n",
      "-165\n",
      "-166\n",
      "-167\n",
      "-168\n",
      "-169\n",
      "-170\n",
      "-171\n",
      "-172\n",
      "-173\n",
      "-174\n",
      "-175\n",
      "-176\n",
      "-177\n",
      "-178\n",
      "-179\n",
      "-180\n",
      "-181\n",
      "-182\n",
      "-183\n",
      "-184\n",
      "-185\n",
      "-186\n",
      "-187\n",
      "-188\n",
      "-189\n",
      "-190\n",
      "-191\n",
      "-192\n",
      "-193\n",
      "-194\n",
      "-195\n",
      "-196\n",
      "-197\n",
      "-198\n",
      "-199\n",
      "-200\n",
      "-201\n",
      "-202\n",
      "-203\n",
      "-204\n",
      "-205\n",
      "-206\n",
      "-207\n",
      "-208\n",
      "-209\n",
      "-210\n",
      "-211\n",
      "-212\n",
      "-213\n",
      "-214\n",
      "-215\n",
      "-216\n",
      "-217\n",
      "-218\n",
      "-219\n",
      "-220\n",
      "-221\n",
      "-222\n",
      "-223\n",
      "-224\n",
      "-225\n",
      "-226\n",
      "-227\n",
      "-228\n",
      "-229\n",
      "-230\n",
      "-231\n",
      "-232\n",
      "-233\n",
      "-234\n",
      "-235\n",
      "-236\n",
      "-237\n",
      "-238\n",
      "-239\n",
      "-240\n",
      "-241\n",
      "-242\n",
      "-243\n",
      "-244\n",
      "-245\n",
      "-246\n",
      "-247\n",
      "-248\n",
      "-249\n",
      "-250\n",
      "-251\n",
      "-252\n",
      "-253\n",
      "-254\n",
      "-255\n",
      "-256\n",
      "-257\n",
      "-258\n",
      "-259\n",
      "-260\n",
      "-261\n",
      "-262\n",
      "-263\n",
      "-264\n",
      "-265\n",
      "-266\n",
      "-267\n",
      "-268\n",
      "-269\n",
      "-270\n",
      "-271\n",
      "-272\n",
      "-273\n",
      "-274\n",
      "-275\n",
      "-276\n",
      "-277\n",
      "-278\n",
      "-279\n",
      "-280\n",
      "-281\n",
      "-282\n",
      "-283\n",
      "-284\n",
      "-285\n",
      "-286\n",
      "-287\n",
      "-288\n",
      "-289\n",
      "-290\n",
      "-291\n",
      "-292\n",
      "-293\n",
      "-294\n",
      "-295\n",
      "-296\n",
      "-297\n",
      "-298\n",
      "-299\n",
      "-300\n",
      "-301\n",
      "-302\n",
      "-303\n",
      "-304\n",
      "-305\n",
      "-306\n",
      "-307\n",
      "-308\n",
      "-309\n",
      "-310\n",
      "-311\n",
      "-312\n",
      "-313\n",
      "-314\n"
     ]
    },
    {
     "name": "stderr",
     "output_type": "stream",
     "text": [
      "ERROR:root:Internal Python error in the inspect module.\n",
      "Below is the traceback from this internal error.\n",
      "\n"
     ]
    },
    {
     "name": "stdout",
     "output_type": "stream",
     "text": [
      "Traceback (most recent call last):\n",
      "  File \"/Users/adam/anaconda/lib/python3.6/site-packages/IPython/core/interactiveshell.py\", line 2881, in run_code\n",
      "    exec(code_obj, self.user_global_ns, self.user_ns)\n",
      "  File \"<ipython-input-39-b945b1917f3f>\", line 18, in <module>\n",
      "    list(get_leaves(board, 2))\n",
      "  File \"<ipython-input-39-b945b1917f3f>\", line 15, in get_leaves\n",
      "    for leaf in get_leaves(child_boards[i], depth - 1):\n",
      "  File \"<ipython-input-39-b945b1917f3f>\", line 15, in get_leaves\n",
      "    for leaf in get_leaves(child_boards[i], depth - 1):\n",
      "  File \"<ipython-input-39-b945b1917f3f>\", line 15, in get_leaves\n",
      "    for leaf in get_leaves(child_boards[i], depth - 1):\n",
      "  [Previous line repeated 312 more times]\n",
      "  File \"<ipython-input-39-b945b1917f3f>\", line 11, in get_leaves\n",
      "    child_boards = [board.copy() for _ in legal_moves]\n",
      "  File \"<ipython-input-39-b945b1917f3f>\", line 11, in <listcomp>\n",
      "    child_boards = [board.copy() for _ in legal_moves]\n",
      "  File \"/Users/adam/anaconda/lib/python3.6/site-packages/chess/__init__.py\", line 3410, in copy\n",
      "    board.move_stack = copy.deepcopy(self.move_stack)\n",
      "  File \"/Users/adam/anaconda/lib/python3.6/copy.py\", line 180, in deepcopy\n",
      "    y = _reconstruct(x, memo, *rv)\n",
      "  File \"/Users/adam/anaconda/lib/python3.6/copy.py\", line 297, in _reconstruct\n",
      "    item = deepcopy(item, memo)\n",
      "  File \"/Users/adam/anaconda/lib/python3.6/copy.py\", line 148, in deepcopy\n",
      "    copier = _deepcopy_dispatch.get(cls)\n",
      "KeyboardInterrupt\n",
      "\n",
      "During handling of the above exception, another exception occurred:\n",
      "\n",
      "Traceback (most recent call last):\n",
      "  File \"/Users/adam/anaconda/lib/python3.6/site-packages/IPython/core/interactiveshell.py\", line 1821, in showtraceback\n",
      "    stb = value._render_traceback_()\n",
      "AttributeError: 'KeyboardInterrupt' object has no attribute '_render_traceback_'\n",
      "\n",
      "During handling of the above exception, another exception occurred:\n",
      "\n",
      "Traceback (most recent call last):\n",
      "  File \"/Users/adam/anaconda/lib/python3.6/site-packages/IPython/core/ultratb.py\", line 1132, in get_records\n",
      "    return _fixed_getinnerframes(etb, number_of_lines_of_context, tb_offset)\n",
      "  File \"/Users/adam/anaconda/lib/python3.6/site-packages/IPython/core/ultratb.py\", line 313, in wrapped\n",
      "    return f(*args, **kwargs)\n",
      "  File \"/Users/adam/anaconda/lib/python3.6/site-packages/IPython/core/ultratb.py\", line 358, in _fixed_getinnerframes\n",
      "    records = fix_frame_records_filenames(inspect.getinnerframes(etb, context))\n",
      "  File \"/Users/adam/anaconda/lib/python3.6/inspect.py\", line 1453, in getinnerframes\n",
      "    frameinfo = (tb.tb_frame,) + getframeinfo(tb, context)\n",
      "  File \"/Users/adam/anaconda/lib/python3.6/inspect.py\", line 1415, in getframeinfo\n",
      "    lines, lnum = findsource(frame)\n",
      "  File \"/Users/adam/anaconda/lib/python3.6/site-packages/IPython/core/ultratb.py\", line 170, in findsource\n",
      "    file = getsourcefile(object) or getfile(object)\n",
      "  File \"/Users/adam/anaconda/lib/python3.6/inspect.py\", line 666, in getsourcefile\n",
      "    if getattr(getmodule(object, filename), '__loader__', None) is not None:\n",
      "  File \"/Users/adam/anaconda/lib/python3.6/inspect.py\", line 703, in getmodule\n",
      "    if ismodule(module) and hasattr(module, '__file__'):\n",
      "KeyboardInterrupt\n"
     ]
    },
    {
     "ename": "KeyboardInterrupt",
     "evalue": "",
     "output_type": "error",
     "traceback": [
      "\u001b[0;31m---------------------------------------------------------------------------\u001b[0m"
     ]
    }
   ],
   "source": [
    "gen = board_generator()\n",
    "board = gen.__next__()\n",
    "\n",
    "def get_leaves(board, depth):\n",
    "    print(depth)\n",
    "    if depth==0 or len(list(board.legal_moves))==0:\n",
    "        print('here')\n",
    "        return board\n",
    "        \n",
    "    legal_moves = list(board.legal_moves)\n",
    "    child_boards = [board.copy() for _ in legal_moves]\n",
    "    for i, move in enumerate(legal_moves):\n",
    "        child_boards[i].push(legal_moves[i])\n",
    "        \n",
    "    for leaf in get_leaves(child_boards[i], depth - 1):\n",
    "         yield leaf\n",
    "                \n",
    "list(get_leaves(board, 2))"
   ]
  },
  {
   "cell_type": "code",
   "execution_count": null,
   "metadata": {
    "collapsed": true
   },
   "outputs": [],
   "source": [
    "def get_leaf_nodes(self, node, leafs):\n",
    "    if node is not None:\n",
    "        if len(node.children) == 0:\n",
    "            leafs.append(node)\n",
    "        for n in node.children:\n",
    "            self._collect_leaf_nodes(n, leafs)"
   ]
  },
  {
   "cell_type": "code",
   "execution_count": 56,
   "metadata": {},
   "outputs": [
    {
     "data": {
      "text/plain": [
       "5.777777777777778"
      ]
     },
     "execution_count": 56,
     "metadata": {},
     "output_type": "execute_result"
    }
   ],
   "source": [
    "16 * 1300/60/60"
   ]
  },
  {
   "cell_type": "code",
   "execution_count": 55,
   "metadata": {},
   "outputs": [
    {
     "name": "stdout",
     "output_type": "stream",
     "text": [
      "10.77158498764038\n",
      "46398\n"
     ]
    }
   ],
   "source": [
    "import time\n",
    "\n",
    "gen = board_generator()\n",
    "board = gen.__next__()\n",
    "\n",
    "def get_leaves(board, depth, leaves):\n",
    "    if depth == 0:\n",
    "        leaves.append(board)\n",
    "    else:\n",
    "        legal_moves = list(board.legal_moves)\n",
    "        child_boards = [board.copy() for _ in legal_moves]\n",
    "        for i, move in enumerate(legal_moves):\n",
    "            child_boards[i].push(legal_moves[i])\n",
    "        for child_board in child_boards:\n",
    "            get_leaves(child_board, depth-1, leaves)\n",
    "    return leaves\n",
    "\n",
    "t0 = time.time()\n",
    "leaves = get_leaves(board, 3, [])\n",
    "print(time.time() - t0)\n",
    "print(len(leaves))"
   ]
  },
  {
   "cell_type": "markdown",
   "metadata": {},
   "source": [
    "depth 3, full tree no evaluation: 36782 nodes in 10 seconds, 15953 nodes in 16 seconds\n",
    "depth 4, full tree no evaluation: 1309535 nodes in 511 seconds, negamax: 141934 nodes in 164 seconds"
   ]
  },
  {
   "cell_type": "code",
   "execution_count": 9,
   "metadata": {},
   "outputs": [
    {
     "name": "stdout",
     "output_type": "stream",
     "text": [
      "b . r r . b . .\n",
      "p . . . . k . .\n",
      ". . . . R . . p\n",
      ". . p p . . B .\n",
      ". . . . . . . .\n",
      ". N P . . . . .\n",
      "P . . . . P P P\n",
      ". . . . R . K . \n",
      "\n",
      " 0.319721\n",
      "b . r r . b . .\n",
      "p . . . . k . .\n",
      ". . . . R . . p\n",
      ". . p p . . B .\n",
      ". . . . . . . .\n",
      ". N P . . . . .\n",
      "P . . . . P P P\n",
      ". . . . R . K . \n",
      "\n",
      " 0.319721\n",
      "True\n"
     ]
    }
   ],
   "source": [
    "b = gen.__next__()\n",
    "boards_and_moves = [(b.copy(), move) for move in b.legal_moves]\n",
    "for board, move in boards_and_moves:\n",
    "    board.push(move) \n",
    "boards = list(zip(*boards_and_moves))[0]\n",
    "fvs = np.vstack([Chess.make_feature_vector(board) for board in boards])\n",
    "values = sess.run(network.value, feed_dict={network.feature_vector_: fvs})\n",
    "if b.turn:\n",
    "    move_idx = np.argmax(values)\n",
    "else:\n",
    "    move_idx = np.argmin(values)\n",
    "\n",
    "print(boards[move_idx], '\\n\\n', np.max(values))\n",
    "\n",
    "env = Chess(b)\n",
    "move, value = agent.get_move(sess, env, 1)\n",
    "env.make_move(move)\n",
    "print(env.board, '\\n\\n', value)\n",
    "print(boards[move_idx] == env.board)"
   ]
  },
  {
   "cell_type": "code",
   "execution_count": 10,
   "metadata": {
    "collapsed": true
   },
   "outputs": [],
   "source": []
  },
  {
   "cell_type": "code",
   "execution_count": 7,
   "metadata": {
    "collapsed": true
   },
   "outputs": [],
   "source": [
    "def make_feature_vector(board):\n",
    "    piece_matrix = np.zeros((64, len(chess.PIECE_TYPES) + 1, len(chess.COLORS)))\n",
    "\n",
    "    # piece positions\n",
    "    for piece in chess.PIECE_TYPES:\n",
    "        for color in chess.COLORS:\n",
    "            piece_matrix[:, piece, int(color)] = ChessNeuralNetwork.pad_bitmask(board.pieces_mask(piece, color))\n",
    "\n",
    "    # en passant target squares\n",
    "    if board.ep_square:\n",
    "        piece_matrix[board.ep_square, -1, int(board.turn)] = 1\n",
    "\n",
    "    reshaped_piece_matrix = piece_matrix.reshape((64, (len(chess.PIECE_TYPES) + 1) * len(chess.COLORS)))\n",
    "    feature_array = np.zeros((64, (len(chess.PIECE_TYPES) + 1) * len(chess.COLORS) + 2))\n",
    "    feature_array[:, :-2] = reshaped_piece_matrix\n",
    "\n",
    "    # empty squares\n",
    "    empty_squares = (reshaped_piece_matrix.sum(axis=1) == 0)\n",
    "    feature_array[empty_squares, :-2] = 1\n",
    "\n",
    "    # castling rights\n",
    "    feature_array[:, -1] = ChessNeuralNetwork.pad_bitmask(board.castling_rights)\n",
    "\n",
    "    feature_vector = np.zeros((1, 1025))\n",
    "    feature_vector[0, :-1] = np.reshape(feature_array, (1024,))\n",
    "    feature_vector[0, -1] = board.turn\n",
    "\n",
    "    return feature_vector"
   ]
  },
  {
   "cell_type": "code",
   "execution_count": 49,
   "metadata": {
    "collapsed": true
   },
   "outputs": [],
   "source": []
  },
  {
   "cell_type": "code",
   "execution_count": 9,
   "metadata": {},
   "outputs": [
    {
     "name": "stdout",
     "output_type": "stream",
     "text": [
      "-0.197375\n",
      "-0.197375320225\n"
     ]
    }
   ],
   "source": [
    "gen = board_generator()\n",
    "board = gen.__next__()\n",
    "feature_vector = ChessNeuralNetwork.make_feature_vector(board)\n",
    "print(sess.run(network.value, feed_dict={network.feature_vector_: feature_vector})[0,0])\n",
    "print(simple_value(board))"
   ]
  },
  {
   "cell_type": "code",
   "execution_count": 10,
   "metadata": {
    "collapsed": true
   },
   "outputs": [],
   "source": [
    "from random import choice, random\n",
    "\n",
    "def generate_random_fen(density):\n",
    "    pieces = ['p', 'n', 'b', 'r', 'q', 'P', 'N', 'B', 'R', 'Q']\n",
    "    rank_fens = []\n",
    "    for rank in range(8):\n",
    "        rank_fen = ''\n",
    "        empty_count = 0\n",
    "        for file in range(8):\n",
    "            if random() > density:\n",
    "                empty_count += 1\n",
    "            else:\n",
    "                if empty_count > 0:\n",
    "                    rank_fen += str(empty_count)\n",
    "                    empty_count = 0\n",
    "                piece = choice(pieces)\n",
    "                rank_fen += piece\n",
    "        if empty_count > 0:\n",
    "            rank_fen += str(empty_count)\n",
    "        rank_fens.append(rank_fen)\n",
    "    fen = '/'.join(rank_fens)\n",
    "    \n",
    "    if random() < .5:\n",
    "        fen += ' w '\n",
    "    else:\n",
    "        fen += ' b '\n",
    "    casteling_rights = ''\n",
    "    if random() < .5:\n",
    "        casteling_rights += 'K'\n",
    "    if random() < .5:\n",
    "        casteling_rights += 'Q'\n",
    "    if random() < .5:\n",
    "        casteling_rights += 'k'\n",
    "    if random() < .5:\n",
    "        casteling_rights += 'q'\n",
    "    if casteling_rights == '':\n",
    "        casteling_rights = '--'\n",
    "    fen += casteling_rights\n",
    "        \n",
    "    fen += ' - 0 1'\n",
    "    return fen"
   ]
  },
  {
   "cell_type": "code",
   "execution_count": 11,
   "metadata": {
    "collapsed": true
   },
   "outputs": [],
   "source": [
    "def batch_generator(batch_size):\n",
    "    while True:\n",
    "        X = []\n",
    "        y = []\n",
    "        for i in range(batch_size):\n",
    "            fen = generate_random_fen(random())\n",
    "            board = chess.Board(fen)\n",
    "            fv = ChessNeuralNetwork.make_feature_vector(board)\n",
    "            X.append(fv)\n",
    "            y.append(simple_value(board))\n",
    "        yield np.array(X), np.array(y)"
   ]
  },
  {
   "cell_type": "code",
   "execution_count": 12,
   "metadata": {},
   "outputs": [
    {
     "name": "stdout",
     "output_type": "stream",
     "text": [
      "[[[ 0.  0.  0. ...,  0.  1.  1.]]\n",
      "\n",
      " [[ 0.  0.  0. ...,  0.  0.  1.]]\n",
      "\n",
      " [[ 0.  0.  0. ...,  0.  1.  0.]]\n",
      "\n",
      " ..., \n",
      " [[ 0.  0.  0. ...,  0.  1.  0.]]\n",
      "\n",
      " [[ 0.  0.  1. ...,  0.  1.  0.]]\n",
      "\n",
      " [[ 0.  0.  0. ...,  0.  1.  1.]]]\n",
      "[-0.99969858  0.9993293   0.99969858  0.37994896 -0.99986455  0.98367486\n",
      " -0.97574313 -0.53704957 -0.19737532  0.99263152]\n"
     ]
    }
   ],
   "source": [
    "g = batch_generator(10)\n",
    "X, y = g.__next__()\n",
    "print(X)\n",
    "print(y)"
   ]
  },
  {
   "cell_type": "code",
   "execution_count": 22,
   "metadata": {},
   "outputs": [
    {
     "name": "stdout",
     "output_type": "stream",
     "text": [
      "0.761594\n",
      "0.761594155956\n"
     ]
    }
   ],
   "source": [
    "fen = generate_random_fen(.1)\n",
    "board = chess.Board(fen)\n",
    "feature_vector = ChessNeuralNetwork.make_feature_vector(board)\n",
    "print(sess.run(network.value, feed_dict={network.feature_vector_: feature_vector})[0, 0])\n",
    "print(simple_value(board))"
   ]
  },
  {
   "cell_type": "code",
   "execution_count": 23,
   "metadata": {},
   "outputs": [
    {
     "name": "stdout",
     "output_type": "stream",
     "text": [
      ". . p . . . . .\n",
      ". . . . . . . .\n",
      ". Q B . . . . .\n",
      ". . . . . . . N\n",
      ". . . . . . . .\n",
      ". . . . . . . .\n",
      ". . . . . q . .\n",
      ". . . . . . . .\n"
     ]
    }
   ],
   "source": [
    "print(board)"
   ]
  },
  {
   "cell_type": "code",
   "execution_count": 24,
   "metadata": {},
   "outputs": [
    {
     "data": {
      "text/plain": [
       "array([[0, 0, 0, 0, 0, 0, 0, 0],\n",
       "       [0, 0, 0, 0, 0, 0, 0, 0],\n",
       "       [0, 0, 0, 0, 0, 0, 0, 0],\n",
       "       [1, 0, 0, 0, 0, 0, 0, 0],\n",
       "       [0, 0, 0, 0, 0, 0, 0, 0],\n",
       "       [0, 0, 0, 0, 0, 0, 0, 0],\n",
       "       [0, 0, 0, 0, 0, 0, 0, 0],\n",
       "       [0, 0, 0, 0, 0, 0, 0, 0]])"
      ]
     },
     "execution_count": 24,
     "metadata": {},
     "output_type": "execute_result"
    }
   ],
   "source": [
    "ChessNeuralNetwork.pad_bitmask(board.pieces_mask(2, 1)).reshape((8, 8))"
   ]
  },
  {
   "cell_type": "code",
   "execution_count": 17,
   "metadata": {
    "collapsed": true
   },
   "outputs": [],
   "source": [
    "W_1 = np.zeros((1025, 100))\n",
    "pieces = ['p', 'n', 'b', 'r', 'q', 'P', 'N', 'B', 'R', 'Q']\n",
    "values = [-1, -3, -3, -5, -9, 1, 3, 3, 5, 9]\n",
    "for piece, value in zip(pieces, values):\n",
    "    fen = '/'.join([8*piece for _ in range(8)]) + ' b -- - 0 1'\n",
    "    board = chess.Board(fen)\n",
    "    W_1[ChessNeuralNetwork.make_feature_vector(board)[0] == 1, 0] = value"
   ]
  },
  {
   "cell_type": "code",
   "execution_count": 25,
   "metadata": {},
   "outputs": [
    {
     "data": {
      "text/plain": [
       "array([[ 5.,  0.,  0.,  0.,  0.,  0.,  0.,  0.,  0.,  0.,  0.,  0.,  0.,\n",
       "         0.,  0.,  0.,  0.,  0.,  0.,  0.,  0.,  0.,  0.,  0.,  0.,  0.,\n",
       "         0.,  0.,  0.,  0.,  0.,  0.,  0.,  0.,  0.,  0.,  0.,  0.,  0.,\n",
       "         0.,  0.,  0.,  0.,  0.,  0.,  0.,  0.,  0.,  0.,  0.,  0.,  0.,\n",
       "         0.,  0.,  0.,  0.,  0.,  0.,  0.,  0.,  0.,  0.,  0.,  0.,  0.,\n",
       "         0.,  0.,  0.,  0.,  0.,  0.,  0.,  0.,  0.,  0.,  0.,  0.,  0.,\n",
       "         0.,  0.,  0.,  0.,  0.,  0.,  0.,  0.,  0.,  0.,  0.,  0.,  0.,\n",
       "         0.,  0.,  0.,  0.,  0.,  0.,  0.,  0.,  0.]])"
      ]
     },
     "execution_count": 25,
     "metadata": {},
     "output_type": "execute_result"
    }
   ],
   "source": [
    "np.dot(feature_vector, W_1)"
   ]
  },
  {
   "cell_type": "code",
   "execution_count": 39,
   "metadata": {
    "collapsed": true
   },
   "outputs": [],
   "source": [
    "w = sess.run(network.trainable_variables)[0][:-1, :].reshape(64, -1, 100)\\"
   ]
  },
  {
   "cell_type": "code",
   "execution_count": 46,
   "metadata": {},
   "outputs": [
    {
     "data": {
      "text/plain": [
       "array([-1., -1., -1., -1., -1., -1., -1., -1., -1., -1., -1., -1., -1.,\n",
       "       -1., -1., -1., -1., -1., -1., -1., -1., -1., -1., -1., -1., -1.,\n",
       "       -1., -1., -1., -1., -1., -1., -1., -1., -1., -1., -1., -1., -1.,\n",
       "       -1., -1., -1., -1., -1., -1., -1., -1., -1., -1., -1., -1., -1.,\n",
       "       -1., -1., -1., -1., -1., -1., -1., -1., -1., -1., -1., -1.], dtype=float32)"
      ]
     },
     "execution_count": 46,
     "metadata": {},
     "output_type": "execute_result"
    }
   ],
   "source": [
    "w[:, 2, 0]"
   ]
  },
  {
   "cell_type": "code",
   "execution_count": 26,
   "metadata": {},
   "outputs": [
    {
     "data": {
      "text/plain": [
       "array([[ 0.76159418]], dtype=float32)"
      ]
     },
     "execution_count": 26,
     "metadata": {},
     "output_type": "execute_result"
    }
   ],
   "source": [
    "sess.run(network.value, feed_dict={network.feature_vector_: network.make_feature_vector(board)})"
   ]
  },
  {
   "cell_type": "code",
   "execution_count": 30,
   "metadata": {},
   "outputs": [
    {
     "data": {
      "text/plain": [
       "0.76159415595576485"
      ]
     },
     "execution_count": 30,
     "metadata": {},
     "output_type": "execute_result"
    }
   ],
   "source": [
    "np.tanh(5/5)"
   ]
  },
  {
   "cell_type": "code",
   "execution_count": 17,
   "metadata": {
    "collapsed": true
   },
   "outputs": [],
   "source": [
    "gen = board_generator()\n",
    "board = gen.__next__()"
   ]
  },
  {
   "cell_type": "code",
   "execution_count": 18,
   "metadata": {},
   "outputs": [
    {
     "name": "stdout",
     "output_type": "stream",
     "text": [
      "1000 loops, best of 3: 263 µs per loop\n"
     ]
    }
   ],
   "source": [
    "%%timeit\n",
    "foboard.legal_moves)"
   ]
  },
  {
   "cell_type": "code",
   "execution_count": 10,
   "metadata": {},
   "outputs": [
    {
     "name": "stdout",
     "output_type": "stream",
     "text": [
      "10000 loops, best of 3: 106 µs per loop\n"
     ]
    }
   ],
   "source": [
    "%%timeit\n",
    "b = board.copy()\n",
    "b.push(legal_moves[0])"
   ]
  },
  {
   "cell_type": "code",
   "execution_count": null,
   "metadata": {
    "collapsed": true
   },
   "outputs": [],
   "source": [
    "%%"
   ]
  }
 ],
 "metadata": {
  "kernelspec": {
   "display_name": "Python 3",
   "language": "python",
   "name": "python3"
  },
  "language_info": {
   "codemirror_mode": {
    "name": "ipython",
    "version": 3
   },
   "file_extension": ".py",
   "mimetype": "text/x-python",
   "name": "python",
   "nbconvert_exporter": "python",
   "pygments_lexer": "ipython3",
   "version": "3.6.1"
  }
 },
 "nbformat": 4,
 "nbformat_minor": 1
}
