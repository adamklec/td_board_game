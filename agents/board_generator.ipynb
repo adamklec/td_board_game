{
 "cells": [
  {
   "cell_type": "code",
   "execution_count": 1,
   "metadata": {
    "collapsed": true
   },
   "outputs": [],
   "source": [
    "import chess\n",
    "from chess.pgn import read_game\n",
    "import numpy as np\n",
    "from anytree import Node\n",
    "from network import ChessNeuralNetwork"
   ]
  },
  {
   "cell_type": "code",
   "execution_count": 2,
   "metadata": {},
   "outputs": [],
   "source": [
    "def board_generator():\n",
    "    pgn = open(\"millionbase-2.22.pgn\")\n",
    "    while True:\n",
    "        game = read_game(pgn)\n",
    "        if game and len(list(game.main_line()))>0:\n",
    "            node = game\n",
    "            move_number = np.random.randint(0, high=len(list(game.main_line())) - 1) #don't take the last move\n",
    "            while 2*(node.board().fullmove_number-1)+int(not node.board().turn) < move_number:\n",
    "                next_node = node.variation(0)\n",
    "                node = next_node\n",
    "            yield node.board()\n",
    "        else:\n",
    "            pgn.seek(0)"
   ]
  },
  {
   "cell_type": "code",
   "execution_count": 3,
   "metadata": {},
   "outputs": [],
   "source": [
    "def simple_value(board):\n",
    "    values = [1, 3, 3, 5, 9]\n",
    "    s = 0\n",
    "    for i, v in enumerate(values):\n",
    "        s += ChessNeuralNetwork.pad_bitmask(board.pieces_mask(i + 1, 1)).sum() * v\n",
    "        s -= ChessNeuralNetwork.pad_bitmask(board.pieces_mask(i + 1, 0)).sum() * v\n",
    "    return np.tanh(s)"
   ]
  },
  {
   "cell_type": "code",
   "execution_count": 4,
   "metadata": {},
   "outputs": [],
   "source": [
    "def alpha_beta(node, depth, alpha, beta):\n",
    "    if depth == 0 or node.board.is_game_over():\n",
    "        return simple_value(node.board), node\n",
    "\n",
    "    legal_moves = list(node.board.legal_moves)\n",
    "    child_boards = [node.board.copy() for _ in legal_moves]\n",
    "    children = []\n",
    "    for idx in range(len(node.board.legal_moves)):\n",
    "        child_boards[idx].push(legal_moves[idx])\n",
    "        child = Node(str(legal_moves[idx]), parent=node, board=child_boards[idx], move=legal_moves[idx])\n",
    "        children.append(child)\n",
    "    n = node\n",
    "    if node.board.turn:\n",
    "        v = -100000\n",
    "        for child in children:\n",
    "            vv, nn = alpha_beta(child, depth - 1, alpha, beta)\n",
    "            if vv > v:\n",
    "                v = vv\n",
    "                n = nn\n",
    "            alpha = max(alpha, v)\n",
    "            if beta <= alpha:\n",
    "                break  # (* β cut-off *)\n",
    "        return v, n\n",
    "    else:\n",
    "        v = 100000\n",
    "        for child in children:\n",
    "            vv, nn = alpha_beta(child, depth - 1, alpha, beta)\n",
    "            if vv < v:\n",
    "                v = vv\n",
    "                n = nn\n",
    "            beta = min(beta, v)\n",
    "            if beta <= alpha:\n",
    "                break  # (* α cut-off *)\n",
    "        return v, n"
   ]
  },
  {
   "cell_type": "code",
   "execution_count": 5,
   "metadata": {},
   "outputs": [
    {
     "name": "stdout",
     "output_type": "stream",
     "text": [
      "0.0 Node('/root/d5c4/f4c7', board=Board('rnbqkb1r/ppB1pp1p/5np1/8/2pP4/2N5/PP2PPPP/R2QKBNR b KQkq - 0 5'), move=Move.from_uci('f4c7'))\n"
     ]
    }
   ],
   "source": [
    "gen = board_generator()\n",
    "b = gen.__next__()\n",
    "root = Node('root', board=b, move=None)\n",
    "v, n = alpha_beta(root, 2, -100000, 100000)\n",
    "print(v, n)"
   ]
  },
  {
   "cell_type": "code",
   "execution_count": 6,
   "metadata": {},
   "outputs": [],
   "source": [
    "def make_feature_vector(board):\n",
    "    piece_matrix = np.zeros((64, len(chess.PIECE_TYPES) + 1, len(chess.COLORS)))\n",
    "\n",
    "    # piece positions\n",
    "    for piece in chess.PIECE_TYPES:\n",
    "        for color in chess.COLORS:\n",
    "            piece_matrix[:, piece, int(color)] = ChessNeuralNetwork.pad_bitmask(board.pieces_mask(piece, color))\n",
    "\n",
    "    # en passant target squares\n",
    "    if board.ep_square:\n",
    "        piece_matrix[board.ep_square, -1, int(board.turn)] = 1\n",
    "\n",
    "    reshaped_piece_matrix = piece_matrix.reshape((64, (len(chess.PIECE_TYPES) + 1) * len(chess.COLORS)))\n",
    "    feature_array = np.zeros((64, (len(chess.PIECE_TYPES) + 1) * len(chess.COLORS) + 2))\n",
    "    feature_array[:, :-2] = reshaped_piece_matrix\n",
    "\n",
    "    # empty squares\n",
    "    empty_squares = (reshaped_piece_matrix.sum(axis=1) == 0)\n",
    "    feature_array[empty_squares, :-2] = 1\n",
    "\n",
    "    # castling rights\n",
    "    feature_array[:, -1] = ChessNeuralNetwork.pad_bitmask(board.castling_rights)\n",
    "\n",
    "    feature_vector = np.zeros((1, 1025))\n",
    "    feature_vector[0, :-1] = np.reshape(feature_array, (1024,))\n",
    "    feature_vector[0, -1] = board.turn\n",
    "\n",
    "    return feature_vector"
   ]
  },
  {
   "cell_type": "code",
   "execution_count": 7,
   "metadata": {},
   "outputs": [],
   "source": [
    "W_1 = np.zeros((1025, 100))\n",
    "pieces = ['p', 'n', 'b', 'r', 'q', 'P', 'N', 'B', 'R', 'Q']\n",
    "values = [-1, -3, -3, -5, -9, 1, 3, 3, 5, 9]\n",
    "for piece, value in zip(pieces, values):\n",
    "    fen = '/'.join([8*piece for _ in range(8)]) + ' b -- - 0 1'\n",
    "    board = chess.Board(fen)\n",
    "    W_1[ChessNeuralNetwork.make_feature_vector(board)[0] == 1, 0] = value"
   ]
  },
  {
   "cell_type": "code",
   "execution_count": 7,
   "metadata": {},
   "outputs": [],
   "source": [
    "import tensorflow as tf\n",
    "sess = tf.Session()\n",
    "network = ChessNeuralNetwork()\n",
    "sess.run(tf.global_variables_initializer())"
   ]
  },
  {
   "cell_type": "code",
   "execution_count": 16,
   "metadata": {},
   "outputs": [
    {
     "name": "stdout",
     "output_type": "stream",
     "text": [
      "0.0\n0.0\n"
     ]
    }
   ],
   "source": [
    "gen = board_generator()\n",
    "board = gen.__next__()\n",
    "feature_vector = ChessNeuralNetwork.make_feature_vector(board)\n",
    "print(sess.run(network.value, feed_dict={network.feature_vector_: feature_vector})[0,0])\n",
    "print(simple_value(board))"
   ]
  },
  {
   "cell_type": "code",
   "execution_count": null,
   "metadata": {},
   "outputs": [],
   "source": [
    ""
   ]
  }
 ],
 "metadata": {
  "kernelspec": {
   "display_name": "Python 2",
   "language": "python",
   "name": "python2"
  },
  "language_info": {
   "codemirror_mode": {
    "name": "ipython",
    "version": 2.0
   },
   "file_extension": ".py",
   "mimetype": "text/x-python",
   "name": "python",
   "nbconvert_exporter": "python",
   "pygments_lexer": "ipython2",
   "version": "2.7.6"
  }
 },
 "nbformat": 4,
 "nbformat_minor": 0
}