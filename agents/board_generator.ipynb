{
 "cells": [
  {
   "cell_type": "code",
   "execution_count": 1,
   "metadata": {
    "collapsed": false
   },
   "outputs": [
    {
     "ename": "ImportError",
     "evalue": "Traceback (most recent call last):\n  File \"/Users/adam/anaconda/envs/tensorflow/lib/python3.6/site-packages/tensorflow/python/__init__.py\", line 49, in <module>\n    from tensorflow.python import pywrap_tensorflow\n  File \"/Users/adam/anaconda/envs/tensorflow/lib/python3.6/site-packages/tensorflow/python/pywrap_tensorflow.py\", line 28, in <module>\n    _pywrap_tensorflow = swig_import_helper()\n  File \"/Users/adam/anaconda/envs/tensorflow/lib/python3.6/site-packages/tensorflow/python/pywrap_tensorflow.py\", line 24, in swig_import_helper\n    _mod = imp.load_module('_pywrap_tensorflow', fp, pathname, description)\n  File \"/Users/adam/anaconda/envs/tensorflow/lib/python3.6/imp.py\", line 242, in load_module\n    return load_dynamic(name, filename, file)\n  File \"/Users/adam/anaconda/envs/tensorflow/lib/python3.6/imp.py\", line 342, in load_dynamic\n    return _load(spec)\nImportError: dlopen(/Users/adam/anaconda/envs/tensorflow/lib/python3.6/site-packages/tensorflow/python/_pywrap_tensorflow.so, 10): Library not loaded: @rpath/libcudart.8.0.dylib\n  Referenced from: /Users/adam/anaconda/envs/tensorflow/lib/python3.6/site-packages/tensorflow/python/_pywrap_tensorflow.so\n  Reason: image not found\n\n\nError importing tensorflow.  Unless you are using bazel,\nyou should not try to import tensorflow from its source directory;\nplease exit the tensorflow source tree, and relaunch your python interpreter\nfrom there.",
     "traceback": [
      "\u001b[0;31m---------------------------------------------------------------------------\u001b[0m",
      "\u001b[0;31mImportError\u001b[0m                               Traceback (most recent call last)",
      "\u001b[0;32m~/anaconda/envs/tensorflow/lib/python3.6/site-packages/tensorflow/python/__init__.py\u001b[0m in \u001b[0;36m<module>\u001b[0;34m()\u001b[0m\n\u001b[1;32m     48\u001b[0m     \u001b[0msys\u001b[0m\u001b[0;34m.\u001b[0m\u001b[0msetdlopenflags\u001b[0m\u001b[0;34m(\u001b[0m\u001b[0m_default_dlopen_flags\u001b[0m \u001b[0;34m|\u001b[0m \u001b[0mctypes\u001b[0m\u001b[0;34m.\u001b[0m\u001b[0mRTLD_GLOBAL\u001b[0m\u001b[0;34m)\u001b[0m\u001b[0;34m\u001b[0m\u001b[0m\n\u001b[0;32m---> 49\u001b[0;31m     \u001b[0;32mfrom\u001b[0m \u001b[0mtensorflow\u001b[0m\u001b[0;34m.\u001b[0m\u001b[0mpython\u001b[0m \u001b[0;32mimport\u001b[0m \u001b[0mpywrap_tensorflow\u001b[0m\u001b[0;34m\u001b[0m\u001b[0m\n\u001b[0m\u001b[1;32m     50\u001b[0m     \u001b[0msys\u001b[0m\u001b[0;34m.\u001b[0m\u001b[0msetdlopenflags\u001b[0m\u001b[0;34m(\u001b[0m\u001b[0m_default_dlopen_flags\u001b[0m\u001b[0;34m)\u001b[0m\u001b[0;34m\u001b[0m\u001b[0m\n",
      "\u001b[0;32m~/anaconda/envs/tensorflow/lib/python3.6/site-packages/tensorflow/python/pywrap_tensorflow.py\u001b[0m in \u001b[0;36m<module>\u001b[0;34m()\u001b[0m\n\u001b[1;32m     27\u001b[0m             \u001b[0;32mreturn\u001b[0m \u001b[0m_mod\u001b[0m\u001b[0;34m\u001b[0m\u001b[0m\n\u001b[0;32m---> 28\u001b[0;31m     \u001b[0m_pywrap_tensorflow\u001b[0m \u001b[0;34m=\u001b[0m \u001b[0mswig_import_helper\u001b[0m\u001b[0;34m(\u001b[0m\u001b[0;34m)\u001b[0m\u001b[0;34m\u001b[0m\u001b[0m\n\u001b[0m\u001b[1;32m     29\u001b[0m     \u001b[0;32mdel\u001b[0m \u001b[0mswig_import_helper\u001b[0m\u001b[0;34m\u001b[0m\u001b[0m\n",
      "\u001b[0;32m~/anaconda/envs/tensorflow/lib/python3.6/site-packages/tensorflow/python/pywrap_tensorflow.py\u001b[0m in \u001b[0;36mswig_import_helper\u001b[0;34m()\u001b[0m\n\u001b[1;32m     23\u001b[0m             \u001b[0;32mtry\u001b[0m\u001b[0;34m:\u001b[0m\u001b[0;34m\u001b[0m\u001b[0m\n\u001b[0;32m---> 24\u001b[0;31m                 \u001b[0m_mod\u001b[0m \u001b[0;34m=\u001b[0m \u001b[0mimp\u001b[0m\u001b[0;34m.\u001b[0m\u001b[0mload_module\u001b[0m\u001b[0;34m(\u001b[0m\u001b[0;34m'_pywrap_tensorflow'\u001b[0m\u001b[0;34m,\u001b[0m \u001b[0mfp\u001b[0m\u001b[0;34m,\u001b[0m \u001b[0mpathname\u001b[0m\u001b[0;34m,\u001b[0m \u001b[0mdescription\u001b[0m\u001b[0;34m)\u001b[0m\u001b[0;34m\u001b[0m\u001b[0m\n\u001b[0m\u001b[1;32m     25\u001b[0m             \u001b[0;32mfinally\u001b[0m\u001b[0;34m:\u001b[0m\u001b[0;34m\u001b[0m\u001b[0m\n",
      "\u001b[0;32m~/anaconda/envs/tensorflow/lib/python3.6/imp.py\u001b[0m in \u001b[0;36mload_module\u001b[0;34m(name, file, filename, details)\u001b[0m\n\u001b[1;32m    241\u001b[0m         \u001b[0;32melse\u001b[0m\u001b[0;34m:\u001b[0m\u001b[0;34m\u001b[0m\u001b[0m\n\u001b[0;32m--> 242\u001b[0;31m             \u001b[0;32mreturn\u001b[0m \u001b[0mload_dynamic\u001b[0m\u001b[0;34m(\u001b[0m\u001b[0mname\u001b[0m\u001b[0;34m,\u001b[0m \u001b[0mfilename\u001b[0m\u001b[0;34m,\u001b[0m \u001b[0mfile\u001b[0m\u001b[0;34m)\u001b[0m\u001b[0;34m\u001b[0m\u001b[0m\n\u001b[0m\u001b[1;32m    243\u001b[0m     \u001b[0;32melif\u001b[0m \u001b[0mtype_\u001b[0m \u001b[0;34m==\u001b[0m \u001b[0mPKG_DIRECTORY\u001b[0m\u001b[0;34m:\u001b[0m\u001b[0;34m\u001b[0m\u001b[0m\n",
      "\u001b[0;32m~/anaconda/envs/tensorflow/lib/python3.6/imp.py\u001b[0m in \u001b[0;36mload_dynamic\u001b[0;34m(name, path, file)\u001b[0m\n\u001b[1;32m    341\u001b[0m             name=name, loader=loader, origin=path)\n\u001b[0;32m--> 342\u001b[0;31m         \u001b[0;32mreturn\u001b[0m \u001b[0m_load\u001b[0m\u001b[0;34m(\u001b[0m\u001b[0mspec\u001b[0m\u001b[0;34m)\u001b[0m\u001b[0;34m\u001b[0m\u001b[0m\n\u001b[0m\u001b[1;32m    343\u001b[0m \u001b[0;34m\u001b[0m\u001b[0m\n",
      "\u001b[0;31mImportError\u001b[0m: dlopen(/Users/adam/anaconda/envs/tensorflow/lib/python3.6/site-packages/tensorflow/python/_pywrap_tensorflow.so, 10): Library not loaded: @rpath/libcudart.8.0.dylib\n  Referenced from: /Users/adam/anaconda/envs/tensorflow/lib/python3.6/site-packages/tensorflow/python/_pywrap_tensorflow.so\n  Reason: image not found",
      "\nDuring handling of the above exception, another exception occurred:\n",
      "\u001b[0;31mImportError\u001b[0m                               Traceback (most recent call last)",
      "\u001b[0;32m<ipython-input-1-5c1cef5bc5a3>\u001b[0m in \u001b[0;36m<module>\u001b[0;34m()\u001b[0m\n\u001b[0;32m----> 1\u001b[0;31m \u001b[0;32mimport\u001b[0m \u001b[0mtensorflow\u001b[0m \u001b[0;32mas\u001b[0m \u001b[0mtf\u001b[0m\u001b[0;34m\u001b[0m\u001b[0m\n\u001b[0m\u001b[1;32m      2\u001b[0m \u001b[0;32mimport\u001b[0m \u001b[0mchess\u001b[0m\u001b[0;34m\u001b[0m\u001b[0m\n\u001b[1;32m      3\u001b[0m \u001b[0;32mfrom\u001b[0m \u001b[0mchess\u001b[0m\u001b[0;34m.\u001b[0m\u001b[0mpgn\u001b[0m \u001b[0;32mimport\u001b[0m \u001b[0mread_game\u001b[0m\u001b[0;34m\u001b[0m\u001b[0m\n\u001b[1;32m      4\u001b[0m \u001b[0;32mimport\u001b[0m \u001b[0mnumpy\u001b[0m \u001b[0;32mas\u001b[0m \u001b[0mnp\u001b[0m\u001b[0;34m\u001b[0m\u001b[0m\n\u001b[1;32m      5\u001b[0m \u001b[0;32mfrom\u001b[0m \u001b[0manytree\u001b[0m \u001b[0;32mimport\u001b[0m \u001b[0mNode\u001b[0m\u001b[0;34m\u001b[0m\u001b[0m\n",
      "\u001b[0;32m~/anaconda/envs/tensorflow/lib/python3.6/site-packages/tensorflow/__init__.py\u001b[0m in \u001b[0;36m<module>\u001b[0;34m()\u001b[0m\n\u001b[1;32m     22\u001b[0m \u001b[0;34m\u001b[0m\u001b[0m\n\u001b[1;32m     23\u001b[0m \u001b[0;31m# pylint: disable=wildcard-import\u001b[0m\u001b[0;34m\u001b[0m\u001b[0;34m\u001b[0m\u001b[0m\n\u001b[0;32m---> 24\u001b[0;31m \u001b[0;32mfrom\u001b[0m \u001b[0mtensorflow\u001b[0m\u001b[0;34m.\u001b[0m\u001b[0mpython\u001b[0m \u001b[0;32mimport\u001b[0m \u001b[0;34m*\u001b[0m\u001b[0;34m\u001b[0m\u001b[0m\n\u001b[0m\u001b[1;32m     25\u001b[0m \u001b[0;31m# pylint: enable=wildcard-import\u001b[0m\u001b[0;34m\u001b[0m\u001b[0;34m\u001b[0m\u001b[0m\n\u001b[1;32m     26\u001b[0m \u001b[0;34m\u001b[0m\u001b[0m\n",
      "\u001b[0;32m~/anaconda/envs/tensorflow/lib/python3.6/site-packages/tensorflow/python/__init__.py\u001b[0m in \u001b[0;36m<module>\u001b[0;34m()\u001b[0m\n\u001b[1;32m     58\u001b[0m \u001b[0mplease\u001b[0m \u001b[0mexit\u001b[0m \u001b[0mthe\u001b[0m \u001b[0mtensorflow\u001b[0m \u001b[0msource\u001b[0m \u001b[0mtree\u001b[0m\u001b[0;34m,\u001b[0m \u001b[0;32mand\u001b[0m \u001b[0mrelaunch\u001b[0m \u001b[0myour\u001b[0m \u001b[0mpython\u001b[0m \u001b[0minterpreter\u001b[0m\u001b[0;34m\u001b[0m\u001b[0m\n\u001b[1;32m     59\u001b[0m from there.\"\"\" % traceback.format_exc()\n\u001b[0;32m---> 60\u001b[0;31m   \u001b[0;32mraise\u001b[0m \u001b[0mImportError\u001b[0m\u001b[0;34m(\u001b[0m\u001b[0mmsg\u001b[0m\u001b[0;34m)\u001b[0m\u001b[0;34m\u001b[0m\u001b[0m\n\u001b[0m\u001b[1;32m     61\u001b[0m \u001b[0;34m\u001b[0m\u001b[0m\n\u001b[1;32m     62\u001b[0m \u001b[0;31m# Protocol buffers\u001b[0m\u001b[0;34m\u001b[0m\u001b[0;34m\u001b[0m\u001b[0m\n",
      "\u001b[0;31mImportError\u001b[0m: Traceback (most recent call last):\n  File \"/Users/adam/anaconda/envs/tensorflow/lib/python3.6/site-packages/tensorflow/python/__init__.py\", line 49, in <module>\n    from tensorflow.python import pywrap_tensorflow\n  File \"/Users/adam/anaconda/envs/tensorflow/lib/python3.6/site-packages/tensorflow/python/pywrap_tensorflow.py\", line 28, in <module>\n    _pywrap_tensorflow = swig_import_helper()\n  File \"/Users/adam/anaconda/envs/tensorflow/lib/python3.6/site-packages/tensorflow/python/pywrap_tensorflow.py\", line 24, in swig_import_helper\n    _mod = imp.load_module('_pywrap_tensorflow', fp, pathname, description)\n  File \"/Users/adam/anaconda/envs/tensorflow/lib/python3.6/imp.py\", line 242, in load_module\n    return load_dynamic(name, filename, file)\n  File \"/Users/adam/anaconda/envs/tensorflow/lib/python3.6/imp.py\", line 342, in load_dynamic\n    return _load(spec)\nImportError: dlopen(/Users/adam/anaconda/envs/tensorflow/lib/python3.6/site-packages/tensorflow/python/_pywrap_tensorflow.so, 10): Library not loaded: @rpath/libcudart.8.0.dylib\n  Referenced from: /Users/adam/anaconda/envs/tensorflow/lib/python3.6/site-packages/tensorflow/python/_pywrap_tensorflow.so\n  Reason: image not found\n\n\nError importing tensorflow.  Unless you are using bazel,\nyou should not try to import tensorflow from its source directory;\nplease exit the tensorflow source tree, and relaunch your python interpreter\nfrom there."
     ],
     "output_type": "error"
    }
   ],
   "source": [
    "import tensorflow as tf\n",
    "import chess\n",
    "from chess.pgn import read_game\n",
    "import numpy as np\n",
    "from anytree import Node\n",
    "from network import ChessNeuralNetwork\n",
    "from game import Chess\n",
    "\n",
    "import time\n",
    "from agents.nn_agent import NeuralNetworkAgent"
   ]
  },
  {
   "cell_type": "code",
   "execution_count": 3,
   "metadata": {},
   "outputs": [],
   "source": [
    "def board_generator():\n",
    "    pgn = open(\"millionbase-2.22.pgn\")\n",
    "    while True:\n",
    "        game = read_game(pgn)\n",
    "        if game and len(list(game.main_line()))>0:\n",
    "            node = game\n",
    "            move_number = np.random.randint(0, high=len(list(game.main_line())) - 1) #don't take the last move\n",
    "            while 2*(node.board().fullmove_number-1)+int(not node.board().turn) < move_number:\n",
    "                next_node = node.variation(0)\n",
    "                node = next_node\n",
    "            yield node.board()\n",
    "        else:\n",
    "            pgn.seek(0)"
   ]
  },
  {
   "cell_type": "code",
   "execution_count": 4,
   "metadata": {},
   "outputs": [],
   "source": [
    "def simple_value(board):\n",
    "    values = [1, 3, 3, 5, 9]\n",
    "    s = 0\n",
    "    for i, v in enumerate(values):\n",
    "        s += Chess.pad_bitmask(board.pieces_mask(i + 1, 1)).sum() * v\n",
    "        s -= Chess.pad_bitmask(board.pieces_mask(i + 1, 0)).sum() * v\n",
    "    return np.tanh(s / 5)"
   ]
  },
  {
   "cell_type": "code",
   "execution_count": 5,
   "metadata": {},
   "outputs": [],
   "source": [
    "def alpha_beta(node, depth, alpha, beta):\n",
    "    if depth == 0 or node.board.is_game_over():\n",
    "        return simple_value(node.board), node\n",
    "\n",
    "    legal_moves = list(node.board.legal_moves)\n",
    "    child_boards = [node.board.copy() for _ in legal_moves]\n",
    "    children = []\n",
    "    for idx in range(len(node.board.legal_moves)):\n",
    "        child_boards[idx].push(legal_moves[idx])\n",
    "        child = Node(str(legal_moves[idx]), parent=node, board=child_boards[idx], move=legal_moves[idx])\n",
    "        children.append(child)\n",
    "    n = node\n",
    "    if node.board.turn:\n",
    "        v = -100000\n",
    "        for child in children:\n",
    "            vv, nn = alpha_beta(child, depth - 1, alpha, beta)\n",
    "            if vv > v:\n",
    "                v = vv\n",
    "                n = nn\n",
    "            alpha = max(alpha, v)\n",
    "            if beta <= alpha:\n",
    "                break  # (* β cut-off *)\n",
    "        return v, n\n",
    "    else:\n",
    "        v = 100000\n",
    "        for child in children:\n",
    "            vv, nn = alpha_beta(child, depth - 1, alpha, beta)\n",
    "            if vv < v:\n",
    "                v = vv\n",
    "                n = nn\n",
    "            beta = min(beta, v)\n",
    "            if beta <= alpha:\n",
    "                break  # (* α cut-off *)\n",
    "        return v, n"
   ]
  },
  {
   "cell_type": "code",
   "execution_count": 6,
   "metadata": {},
   "outputs": [],
   "source": [
    "import tensorflow as tf\n",
    "sess = tf.Session()\n",
    "network = ChessNeuralNetwork()\n",
    "agent = NeuralNetworkAgent('master', network, create_trainer=False)\n",
    "sess.run(tf.global_variables_initializer())"
   ]
  },
  {
   "cell_type": "code",
   "execution_count": 7,
   "metadata": {},
   "outputs": [
    {
     "name": "stdout",
     "output_type": "stream",
     "text": [
      "0.012464046478271484 seconds\n0.0 Node('/root/b8a6', board=Board('r1bqkbnr/pppppppp/n7/8/3P4/8/PPP1PPPP/RNBQKBNR w KQkq - 1 2'), move=Move.from_uci('b8a6'))\n"
     ]
    }
   ],
   "source": [
    "gen = board_generator()\n",
    "b = gen.__next__()\n",
    "root = Node('root', board=b, move=None)\n",
    "t0 = time.time()\n",
    "v, n = alpha_beta(root, 1, -100000, 100000)\n",
    "print(time.time() - t0, 'seconds')\n",
    "print(v, n)"
   ]
  },
  {
   "cell_type": "code",
   "execution_count": 9,
   "metadata": {},
   "outputs": [
    {
     "name": "stdout",
     "output_type": "stream",
     "text": [
      "b . r r . b . .\np . . . . k . .\n. . . . R . . p\n. . p p . . B .\n. . . . . . . .\n. N P . . . . .\nP . . . . P P P\n. . . . R . K . \n\n 0.319721\nb . r r . b . .\np . . . . k . .\n. . . . R . . p\n. . p p . . B .\n. . . . . . . .\n. N P . . . . .\nP . . . . P P P\n. . . . R . K . \n\n 0.319721\nTrue\n"
     ]
    }
   ],
   "source": [
    "b = gen.__next__()\n",
    "boards_and_moves = [(b.copy(), move) for move in b.legal_moves]\n",
    "for board, move in boards_and_moves:\n",
    "    board.push(move) \n",
    "boards = list(zip(*boards_and_moves))[0]\n",
    "fvs = np.vstack([Chess.make_feature_vector(board) for board in boards])\n",
    "values = sess.run(network.value, feed_dict={network.feature_vector_: fvs})\n",
    "if b.turn:\n",
    "    move_idx = np.argmax(values)\n",
    "else:\n",
    "    move_idx = np.argmin(values)\n",
    "\n",
    "print(boards[move_idx], '\\n\\n', np.max(values))\n",
    "\n",
    "env = Chess(b)\n",
    "move, value = agent.get_move(sess, env, 1)\n",
    "env.make_move(move)\n",
    "print(env.board, '\\n\\n', value)\n",
    "print(boards[move_idx] == env.board)"
   ]
  },
  {
   "cell_type": "code",
   "execution_count": 10,
   "metadata": {},
   "outputs": [],
   "source": [
    ""
   ]
  },
  {
   "cell_type": "code",
   "execution_count": 7,
   "metadata": {},
   "outputs": [],
   "source": [
    "def make_feature_vector(board):\n",
    "    piece_matrix = np.zeros((64, len(chess.PIECE_TYPES) + 1, len(chess.COLORS)))\n",
    "\n",
    "    # piece positions\n",
    "    for piece in chess.PIECE_TYPES:\n",
    "        for color in chess.COLORS:\n",
    "            piece_matrix[:, piece, int(color)] = ChessNeuralNetwork.pad_bitmask(board.pieces_mask(piece, color))\n",
    "\n",
    "    # en passant target squares\n",
    "    if board.ep_square:\n",
    "        piece_matrix[board.ep_square, -1, int(board.turn)] = 1\n",
    "\n",
    "    reshaped_piece_matrix = piece_matrix.reshape((64, (len(chess.PIECE_TYPES) + 1) * len(chess.COLORS)))\n",
    "    feature_array = np.zeros((64, (len(chess.PIECE_TYPES) + 1) * len(chess.COLORS) + 2))\n",
    "    feature_array[:, :-2] = reshaped_piece_matrix\n",
    "\n",
    "    # empty squares\n",
    "    empty_squares = (reshaped_piece_matrix.sum(axis=1) == 0)\n",
    "    feature_array[empty_squares, :-2] = 1\n",
    "\n",
    "    # castling rights\n",
    "    feature_array[:, -1] = ChessNeuralNetwork.pad_bitmask(board.castling_rights)\n",
    "\n",
    "    feature_vector = np.zeros((1, 1025))\n",
    "    feature_vector[0, :-1] = np.reshape(feature_array, (1024,))\n",
    "    feature_vector[0, -1] = board.turn\n",
    "\n",
    "    return feature_vector"
   ]
  },
  {
   "cell_type": "code",
   "execution_count": 49,
   "metadata": {},
   "outputs": [],
   "source": [
    ""
   ]
  },
  {
   "cell_type": "code",
   "execution_count": 9,
   "metadata": {},
   "outputs": [
    {
     "name": "stdout",
     "output_type": "stream",
     "text": [
      "-0.197375\n-0.197375320225\n"
     ]
    }
   ],
   "source": [
    "gen = board_generator()\n",
    "board = gen.__next__()\n",
    "feature_vector = ChessNeuralNetwork.make_feature_vector(board)\n",
    "print(sess.run(network.value, feed_dict={network.feature_vector_: feature_vector})[0,0])\n",
    "print(simple_value(board))"
   ]
  },
  {
   "cell_type": "code",
   "execution_count": 10,
   "metadata": {},
   "outputs": [],
   "source": [
    "from random import choice, random\n",
    "\n",
    "def generate_random_fen(density):\n",
    "    pieces = ['p', 'n', 'b', 'r', 'q', 'P', 'N', 'B', 'R', 'Q']\n",
    "    rank_fens = []\n",
    "    for rank in range(8):\n",
    "        rank_fen = ''\n",
    "        empty_count = 0\n",
    "        for file in range(8):\n",
    "            if random() > density:\n",
    "                empty_count += 1\n",
    "            else:\n",
    "                if empty_count > 0:\n",
    "                    rank_fen += str(empty_count)\n",
    "                    empty_count = 0\n",
    "                piece = choice(pieces)\n",
    "                rank_fen += piece\n",
    "        if empty_count > 0:\n",
    "            rank_fen += str(empty_count)\n",
    "        rank_fens.append(rank_fen)\n",
    "    fen = '/'.join(rank_fens)\n",
    "    \n",
    "    if random() < .5:\n",
    "        fen += ' w '\n",
    "    else:\n",
    "        fen += ' b '\n",
    "    casteling_rights = ''\n",
    "    if random() < .5:\n",
    "        casteling_rights += 'K'\n",
    "    if random() < .5:\n",
    "        casteling_rights += 'Q'\n",
    "    if random() < .5:\n",
    "        casteling_rights += 'k'\n",
    "    if random() < .5:\n",
    "        casteling_rights += 'q'\n",
    "    if casteling_rights == '':\n",
    "        casteling_rights = '--'\n",
    "    fen += casteling_rights\n",
    "        \n",
    "    fen += ' - 0 1'\n",
    "    return fen"
   ]
  },
  {
   "cell_type": "code",
   "execution_count": 11,
   "metadata": {},
   "outputs": [],
   "source": [
    "def batch_generator(batch_size):\n",
    "    while True:\n",
    "        X = []\n",
    "        y = []\n",
    "        for i in range(batch_size):\n",
    "            fen = generate_random_fen(random())\n",
    "            board = chess.Board(fen)\n",
    "            fv = ChessNeuralNetwork.make_feature_vector(board)\n",
    "            X.append(fv)\n",
    "            y.append(simple_value(board))\n",
    "        yield np.array(X), np.array(y)"
   ]
  },
  {
   "cell_type": "code",
   "execution_count": 12,
   "metadata": {},
   "outputs": [
    {
     "name": "stdout",
     "output_type": "stream",
     "text": [
      "[[[ 0.  0.  0. ...,  0.  1.  1.]]\n\n [[ 0.  0.  0. ...,  0.  0.  1.]]\n\n [[ 0.  0.  0. ...,  0.  1.  0.]]\n\n ..., \n [[ 0.  0.  0. ...,  0.  1.  0.]]\n\n [[ 0.  0.  1. ...,  0.  1.  0.]]\n\n [[ 0.  0.  0. ...,  0.  1.  1.]]]\n[-0.99969858  0.9993293   0.99969858  0.37994896 -0.99986455  0.98367486\n -0.97574313 -0.53704957 -0.19737532  0.99263152]\n"
     ]
    }
   ],
   "source": [
    "g = batch_generator(10)\n",
    "X, y = g.__next__()\n",
    "print(X)\n",
    "print(y)"
   ]
  },
  {
   "cell_type": "code",
   "execution_count": 22,
   "metadata": {},
   "outputs": [
    {
     "name": "stdout",
     "output_type": "stream",
     "text": [
      "0.761594\n0.761594155956\n"
     ]
    }
   ],
   "source": [
    "fen = generate_random_fen(.1)\n",
    "board = chess.Board(fen)\n",
    "feature_vector = ChessNeuralNetwork.make_feature_vector(board)\n",
    "print(sess.run(network.value, feed_dict={network.feature_vector_: feature_vector})[0, 0])\n",
    "print(simple_value(board))"
   ]
  },
  {
   "cell_type": "code",
   "execution_count": 23,
   "metadata": {},
   "outputs": [
    {
     "name": "stdout",
     "output_type": "stream",
     "text": [
      ". . p . . . . .\n. . . . . . . .\n. Q B . . . . .\n. . . . . . . N\n. . . . . . . .\n. . . . . . . .\n. . . . . q . .\n. . . . . . . .\n"
     ]
    }
   ],
   "source": [
    "print(board)"
   ]
  },
  {
   "cell_type": "code",
   "execution_count": 24,
   "metadata": {},
   "outputs": [
    {
     "data": {
      "text/plain": [
       "array([[0, 0, 0, 0, 0, 0, 0, 0],\n       [0, 0, 0, 0, 0, 0, 0, 0],\n       [0, 0, 0, 0, 0, 0, 0, 0],\n       [1, 0, 0, 0, 0, 0, 0, 0],\n       [0, 0, 0, 0, 0, 0, 0, 0],\n       [0, 0, 0, 0, 0, 0, 0, 0],\n       [0, 0, 0, 0, 0, 0, 0, 0],\n       [0, 0, 0, 0, 0, 0, 0, 0]])"
      ]
     },
     "execution_count": 24,
     "metadata": {},
     "output_type": "execute_result"
    }
   ],
   "source": [
    "ChessNeuralNetwork.pad_bitmask(board.pieces_mask(2, 1)).reshape((8, 8))"
   ]
  },
  {
   "cell_type": "code",
   "execution_count": 17,
   "metadata": {},
   "outputs": [],
   "source": [
    "W_1 = np.zeros((1025, 100))\n",
    "pieces = ['p', 'n', 'b', 'r', 'q', 'P', 'N', 'B', 'R', 'Q']\n",
    "values = [-1, -3, -3, -5, -9, 1, 3, 3, 5, 9]\n",
    "for piece, value in zip(pieces, values):\n",
    "    fen = '/'.join([8*piece for _ in range(8)]) + ' b -- - 0 1'\n",
    "    board = chess.Board(fen)\n",
    "    W_1[ChessNeuralNetwork.make_feature_vector(board)[0] == 1, 0] = value"
   ]
  },
  {
   "cell_type": "code",
   "execution_count": 25,
   "metadata": {},
   "outputs": [
    {
     "data": {
      "text/plain": [
       "array([[ 5.,  0.,  0.,  0.,  0.,  0.,  0.,  0.,  0.,  0.,  0.,  0.,  0.,\n         0.,  0.,  0.,  0.,  0.,  0.,  0.,  0.,  0.,  0.,  0.,  0.,  0.,\n         0.,  0.,  0.,  0.,  0.,  0.,  0.,  0.,  0.,  0.,  0.,  0.,  0.,\n         0.,  0.,  0.,  0.,  0.,  0.,  0.,  0.,  0.,  0.,  0.,  0.,  0.,\n         0.,  0.,  0.,  0.,  0.,  0.,  0.,  0.,  0.,  0.,  0.,  0.,  0.,\n         0.,  0.,  0.,  0.,  0.,  0.,  0.,  0.,  0.,  0.,  0.,  0.,  0.,\n         0.,  0.,  0.,  0.,  0.,  0.,  0.,  0.,  0.,  0.,  0.,  0.,  0.,\n         0.,  0.,  0.,  0.,  0.,  0.,  0.,  0.,  0.]])"
      ]
     },
     "execution_count": 25,
     "metadata": {},
     "output_type": "execute_result"
    }
   ],
   "source": [
    "np.dot(feature_vector, W_1)"
   ]
  },
  {
   "cell_type": "code",
   "execution_count": 39,
   "metadata": {},
   "outputs": [],
   "source": [
    "w = sess.run(network.trainable_variables)[0][:-1, :].reshape(64, -1, 100)\\"
   ]
  },
  {
   "cell_type": "code",
   "execution_count": 46,
   "metadata": {},
   "outputs": [
    {
     "data": {
      "text/plain": [
       "array([-1., -1., -1., -1., -1., -1., -1., -1., -1., -1., -1., -1., -1.,\n       -1., -1., -1., -1., -1., -1., -1., -1., -1., -1., -1., -1., -1.,\n       -1., -1., -1., -1., -1., -1., -1., -1., -1., -1., -1., -1., -1.,\n       -1., -1., -1., -1., -1., -1., -1., -1., -1., -1., -1., -1., -1.,\n       -1., -1., -1., -1., -1., -1., -1., -1., -1., -1., -1., -1.], dtype=float32)"
      ]
     },
     "execution_count": 46,
     "metadata": {},
     "output_type": "execute_result"
    }
   ],
   "source": [
    "w[:, 2, 0]"
   ]
  },
  {
   "cell_type": "code",
   "execution_count": 26,
   "metadata": {},
   "outputs": [
    {
     "data": {
      "text/plain": [
       "array([[ 0.76159418]], dtype=float32)"
      ]
     },
     "execution_count": 26,
     "metadata": {},
     "output_type": "execute_result"
    }
   ],
   "source": [
    "sess.run(network.value, feed_dict={network.feature_vector_: network.make_feature_vector(board)})"
   ]
  },
  {
   "cell_type": "code",
   "execution_count": 30,
   "metadata": {},
   "outputs": [
    {
     "data": {
      "text/plain": [
       "0.76159415595576485"
      ]
     },
     "execution_count": 30,
     "metadata": {},
     "output_type": "execute_result"
    }
   ],
   "source": [
    "np.tanh(5/5)"
   ]
  },
  {
   "cell_type": "code",
   "execution_count": null,
   "metadata": {},
   "outputs": [],
   "source": [
    ""
   ]
  }
 ],
 "metadata": {
  "kernelspec": {
   "display_name": "Python 2",
   "language": "python",
   "name": "python2"
  },
  "language_info": {
   "codemirror_mode": {
    "name": "ipython",
    "version": 2.0
   },
   "file_extension": ".py",
   "mimetype": "text/x-python",
   "name": "python",
   "nbconvert_exporter": "python",
   "pygments_lexer": "ipython2",
   "version": "2.7.6"
  }
 },
 "nbformat": 4,
 "nbformat_minor": 0
}