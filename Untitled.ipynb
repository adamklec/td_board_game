{
 "cells": [
  {
   "cell_type": "code",
   "execution_count": 1,
   "metadata": {
    "collapsed": true
   },
   "outputs": [],
   "source": [
    "from game import *\n",
    "from anytree import Node, RenderTree\n",
    "from anytree.dotexport import RenderTreeGraph"
   ]
  },
  {
   "cell_type": "code",
   "execution_count": 43,
   "metadata": {},
   "outputs": [],
   "source": [
    "def value_function(node):\n",
    "    return node.value\n",
    "\n",
    "def negamax(node, depth, alpha, beta, value_function):\n",
    "    print(node.name)\n",
    "    alpha_orig = alpha\n",
    "\n",
    "    hash_key = node.name\n",
    "    tt_row = ttable.get(hash_key)\n",
    "    if tt_row is not None:# and tt_row['depth'] >= depth:\n",
    "        if tt_row['flag'] == 'EXACT':\n",
    "            print('hash EXACT')\n",
    "            return tt_row['value'], node\n",
    "        elif tt_row['flag'] == 'LOWERBOUND':\n",
    "            print('hash LOWERBOUND')\n",
    "            alpha = max(alpha, tt_row['value'])\n",
    "        elif tt_row['flag'] == 'UPPERBOUND':\n",
    "            print('hash LOWERBOUND')\n",
    "            beta = min(beta, tt_row['value'])\n",
    "        if alpha >= beta:\n",
    "            print('hash cutoff')\n",
    "            return tt_row['value'], node\n",
    "\n",
    "    if depth == 0:\n",
    "        if node.whites_turn:\n",
    "            return value_function(node), node\n",
    "        else:\n",
    "            return -value_function(node), node\n",
    "\n",
    "    children = node.children\n",
    "    \n",
    "    v = -100000\n",
    "    n = node\n",
    "    for child in children:\n",
    "        vv, nn = negamax(child, depth - 1, -beta, -alpha, value_function)\n",
    "        vv = -vv\n",
    "        if vv > v:\n",
    "            v = vv\n",
    "            n = nn\n",
    "        alpha = max(alpha, vv)\n",
    "        if alpha >= beta:\n",
    "            print('cutoff')\n",
    "            break\n",
    "            \n",
    "    print('tt_row:', tt_row)\n",
    "    if tt_row is None:\n",
    "        tt_row = dict()\n",
    "    tt_row['value'] = v\n",
    "    if v <= alpha_orig:\n",
    "        tt_row['flag'] = 'UPPERBOUND'\n",
    "    elif v >= beta:\n",
    "        tt_row['flag'] = 'LOWERBOUND'\n",
    "    else:\n",
    "        tt_row['flag'] = 'EXACT'\n",
    "    tt_row['depth'] = depth\n",
    "    print('new tt_row:', hash_key, tt_row)\n",
    "    ttable[hash_key] = tt_row\n",
    "    return v, n"
   ]
  },
  {
   "cell_type": "code",
   "execution_count": 41,
   "metadata": {},
   "outputs": [],
   "source": [
    "a0 = Node('a0', whites_turn=True)\n",
    "\n",
    "b0 = Node('b0', whites_turn=False, parent=a0)\n",
    "b1 = Node('b1', whites_turn=False, parent=a0)\n",
    "b2 = Node('b2', whites_turn=False, parent=a0)\n",
    "\n",
    "c0 = Node('c0', whites_turn=True, parent=b0)\n",
    "c1 = Node('c1', whites_turn=True, parent=b0)\n",
    "c2 = Node('c2', whites_turn=True, parent=b1)\n",
    "c3 = Node('c3', whites_turn=True, parent=b1)\n",
    "c4 = Node('c4', whites_turn=True, parent=b2)\n",
    "c5 = Node('c5', whites_turn=True, parent=b2)\n",
    "\n",
    "d0 = Node('d0', whites_turn=True, parent=c0)\n",
    "d1 = Node('d1', whites_turn=True, parent=c0)\n",
    "d2 = Node('d2', whites_turn=True, parent=c1)\n",
    "d3 = Node('d3', whites_turn=True, parent=c2)\n",
    "d4 = Node('d4', whites_turn=True, parent=c2)\n",
    "d5 = Node('d5', whites_turn=True, parent=c3)\n",
    "d6 = Node('d6', whites_turn=True, parent=c4)\n",
    "d7 = Node('d7', whites_turn=True, parent=c5)\n",
    "d8 = Node('d8', whites_turn=True, parent=c5)\n",
    "\n",
    "e0 = Node('e0', whites_turn=True, parent=d0, value=5)\n",
    "e1 = Node('e1', whites_turn=True, parent=d0, value=6)\n",
    "e2 = Node('e2', whites_turn=True, parent=d1, value=7)\n",
    "e3 = Node('e3', whites_turn=True, parent=d1, value=4)\n",
    "e4 = Node('e4', whites_turn=True, parent=d1, value=5)\n",
    "e5 = Node('e5', whites_turn=True, parent=d2, value=3)\n",
    "e6 = Node('e6', whites_turn=True, parent=d3, value=6)\n",
    "e7 = Node('e7', whites_turn=True, parent=d4, value=6)\n",
    "e8 = Node('e8', whites_turn=True, parent=d4, value=9)\n",
    "e9 = Node('e9', whites_turn=True, parent=d5, value=7)\n",
    "e10 = Node('e10', whites_turn=True, parent=d6, value=5)\n",
    "e11 = Node('e11', whites_turn=True, parent=d7, value=9)\n",
    "e12 = Node('e12', whites_turn=True, parent=d7, value=8)\n",
    "e13 = Node('e13', whites_turn=True, parent=d8, value=6)"
   ]
  },
  {
   "cell_type": "code",
   "execution_count": 35,
   "metadata": {},
   "outputs": [],
   "source": [
    "a0 = Node('a0', whites_turn=True)\n",
    "\n",
    "b0 = Node('b0', whites_turn=False, parent=a0)\n",
    "b1 = Node('b1', whites_turn=False, parent=a0)\n",
    "b2 = Node('b2', whites_turn=False, parent=a0)\n",
    "\n",
    "c0 = Node('c0', whites_turn=True, parent=b0, value=7)\n",
    "c1 = Node('c1', whites_turn=True, parent=b0, value=3)\n",
    "\n",
    "c2 = Node('c2', whites_turn=True, parent=b1, value=15)\n",
    "\n",
    "# c7 = Node('c2', whites_turn=True, parent=b2, value=15)\n",
    "c3 = Node('c3', whites_turn=True, parent=b2, value=1)\n",
    "c4 = Node('c4', whites_turn=True, parent=b2, value=12)\n",
    "c5 = Node('c5', whites_turn=True, parent=b2, value=20)\n",
    "c6 = Node('c6', whites_turn=True, parent=b2, value=22)"
   ]
  },
  {
   "cell_type": "code",
   "execution_count": 45,
   "metadata": {},
   "outputs": [
    {
     "name": "stdout",
     "output_type": "stream",
     "text": [
      "a0\n",
      "b0\n",
      "c0\n",
      "d0\n",
      "e0\n",
      "e1\n",
      "tt_row: None\n",
      "new tt_row: d0 {'value': -5, 'flag': 'EXACT', 'depth': 1}\n",
      "d1\n",
      "e2\n",
      "e3\n",
      "cutoff\n",
      "tt_row: None\n",
      "new tt_row: d1 {'value': -4, 'flag': 'LOWERBOUND', 'depth': 1}\n",
      "tt_row: None\n",
      "new tt_row: c0 {'value': 5, 'flag': 'EXACT', 'depth': 2}\n",
      "c1\n",
      "d2\n",
      "e5\n",
      "tt_row: None\n",
      "new tt_row: d2 {'value': -3, 'flag': 'EXACT', 'depth': 1}\n",
      "tt_row: None\n",
      "new tt_row: c1 {'value': 3, 'flag': 'EXACT', 'depth': 2}\n",
      "tt_row: None\n",
      "new tt_row: b0 {'value': -3, 'flag': 'EXACT', 'depth': 3}\n",
      "b1\n",
      "c2\n",
      "d3\n",
      "e6\n",
      "tt_row: None\n",
      "new tt_row: d3 {'value': -6, 'flag': 'EXACT', 'depth': 1}\n",
      "d4\n",
      "e7\n",
      "cutoff\n",
      "tt_row: None\n",
      "new tt_row: d4 {'value': -6, 'flag': 'LOWERBOUND', 'depth': 1}\n",
      "tt_row: None\n",
      "new tt_row: c2 {'value': 6, 'flag': 'EXACT', 'depth': 2}\n",
      "c3\n",
      "d5\n",
      "e9\n",
      "tt_row: None\n",
      "new tt_row: d5 {'value': -7, 'flag': 'UPPERBOUND', 'depth': 1}\n",
      "cutoff\n",
      "tt_row: None\n",
      "new tt_row: c3 {'value': 7, 'flag': 'LOWERBOUND', 'depth': 2}\n",
      "tt_row: None\n",
      "new tt_row: b1 {'value': -6, 'flag': 'EXACT', 'depth': 3}\n",
      "b2\n",
      "c4\n",
      "d6\n",
      "e10\n",
      "cutoff\n",
      "tt_row: None\n",
      "new tt_row: d6 {'value': -5, 'flag': 'LOWERBOUND', 'depth': 1}\n",
      "tt_row: None\n",
      "new tt_row: c4 {'value': 5, 'flag': 'UPPERBOUND', 'depth': 2}\n",
      "cutoff\n",
      "tt_row: None\n",
      "new tt_row: b2 {'value': -5, 'flag': 'LOWERBOUND', 'depth': 3}\n",
      "tt_row: None\n",
      "new tt_row: a0 {'value': 6, 'flag': 'EXACT', 'depth': 4}\n"
     ]
    },
    {
     "data": {
      "text/plain": [
       "(6, Node('/a0/b1/c2/d3/e6', value=6, whites_turn=True))"
      ]
     },
     "execution_count": 45,
     "metadata": {},
     "output_type": "execute_result"
    }
   ],
   "source": [
    "ttable = {}\n",
    "negamax(a0, 4, -100, 100, value_function)"
   ]
  },
  {
   "cell_type": "code",
   "execution_count": 46,
   "metadata": {},
   "outputs": [
    {
     "data": {
      "text/plain": [
       "{'a0': {'depth': 4, 'flag': 'EXACT', 'value': 6},\n",
       " 'b0': {'depth': 3, 'flag': 'EXACT', 'value': -3},\n",
       " 'b1': {'depth': 3, 'flag': 'EXACT', 'value': -6},\n",
       " 'b2': {'depth': 3, 'flag': 'LOWERBOUND', 'value': -5},\n",
       " 'c0': {'depth': 2, 'flag': 'EXACT', 'value': 5},\n",
       " 'c1': {'depth': 2, 'flag': 'EXACT', 'value': 3},\n",
       " 'c2': {'depth': 2, 'flag': 'EXACT', 'value': 6},\n",
       " 'c3': {'depth': 2, 'flag': 'LOWERBOUND', 'value': 7},\n",
       " 'c4': {'depth': 2, 'flag': 'UPPERBOUND', 'value': 5},\n",
       " 'd0': {'depth': 1, 'flag': 'EXACT', 'value': -5},\n",
       " 'd1': {'depth': 1, 'flag': 'LOWERBOUND', 'value': -4},\n",
       " 'd2': {'depth': 1, 'flag': 'EXACT', 'value': -3},\n",
       " 'd3': {'depth': 1, 'flag': 'EXACT', 'value': -6},\n",
       " 'd4': {'depth': 1, 'flag': 'LOWERBOUND', 'value': -6},\n",
       " 'd5': {'depth': 1, 'flag': 'UPPERBOUND', 'value': -7},\n",
       " 'd6': {'depth': 1, 'flag': 'LOWERBOUND', 'value': -5}}"
      ]
     },
     "execution_count": 46,
     "metadata": {},
     "output_type": "execute_result"
    }
   ],
   "source": [
    "ttable"
   ]
  },
  {
   "cell_type": "code",
   "execution_count": 48,
   "metadata": {},
   "outputs": [
    {
     "data": {
      "text/plain": [
       "False"
      ]
     },
     "execution_count": 48,
     "metadata": {},
     "output_type": "execute_result"
    }
   ],
   "source": [
    "2<3<1"
   ]
  },
  {
   "cell_type": "code",
   "execution_count": null,
   "metadata": {
    "collapsed": true
   },
   "outputs": [],
   "source": []
  }
 ],
 "metadata": {
  "kernelspec": {
   "display_name": "Python 3",
   "language": "python",
   "name": "python3"
  },
  "language_info": {
   "codemirror_mode": {
    "name": "ipython",
    "version": 3
   },
   "file_extension": ".py",
   "mimetype": "text/x-python",
   "name": "python",
   "nbconvert_exporter": "python",
   "pygments_lexer": "ipython3",
   "version": "3.6.1"
  }
 },
 "nbformat": 4,
 "nbformat_minor": 2
}
