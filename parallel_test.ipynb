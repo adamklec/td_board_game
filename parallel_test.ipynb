{
 "cells": [
  {
   "cell_type": "code",
   "execution_count": 2,
   "metadata": {
    "collapsed": false
   },
   "outputs": [],
   "source": [
    "# Parallel benchmark.\n",
    "#\n",
    "# Example:\n",
    "# time python parallel.py 3\n",
    "#\n",
    "\n",
    "import tensorflow as tf\n",
    "import numpy as np\n",
    "from tensorflow.python.ops import control_flow_ops\n",
    "import sys\n",
    "import time\n",
    "from game import Chess\n",
    "\n",
    "import random\n",
    "def make_heavy_op(myqueue, name):\n",
    "    \"\"\"Make an op that loops many times. This op reads off an int32 from \"myqueue\"\n",
    "     and increments counter that many times. The return value is a Print op that\n",
    "     final value of the counter.\"\"\"\n",
    "\n",
    "    looplimit = myqueue.dequeue()\n",
    "    startval = tf.constant(0)\n",
    "    condition = lambda i: tf.less(i, looplimit)\n",
    "    increment = lambda i: tf.add(i, 1)\n",
    "    result = control_flow_ops.while_loop(condition, increment, [startval])\n",
    "    resultprint = tf.Print(result, [name])\n",
    "    return resultprint\n",
    "\n",
    "def parallel_loops(parallelism, num_entries=10, duration=10**4):\n",
    "    \"\"\"Enqueues \"num_entries*parallelism\" heavy ops and tries to execute them\n",
    "     in parallel, using \"parallelism\" threads\"\"\"\n",
    "    q = tf.FIFOQueue(num_entries*parallelism, np.int32, shapes=())\n",
    "    stuff = tf.placeholder(np.int32)\n",
    "    addstuff = q.enqueue([stuff])\n",
    "    sess = tf.InteractiveSession()\n",
    "    for i in range(num_entries*parallelism):\n",
    "        sess.run([addstuff], feed_dict={stuff: duration})\n",
    "\n",
    "    sess.run([q.close()])\n",
    "    ops = [make_heavy_op(q, \"heavy op #\"+str(i)) for i in range(parallelism)]\n",
    "\n",
    "    runner = tf.train.QueueRunner(q, ops)\n",
    "\n",
    "    start_time = time.time()\n",
    "    threads = runner.create_threads(sess, start=True)\n",
    "    for t in threads:\n",
    "        t.join()\n",
    "\n",
    "    elapsed_time = time.time() - start_time\n",
    "    print('done in %.2f, %.2f ops/sec'%(elapsed_time, (num_entries*parallelism)/elapsed_time))"
   ]
  },
  {
   "cell_type": "code",
   "execution_count": 3,
   "metadata": {
    "collapsed": false
   },
   "outputs": [
    {
     "name": "stdout",
     "output_type": "stream",
     "text": [
      "done in 0.78, 12.79 ops/sec\n"
     ]
    }
   ],
   "source": [
    "parallel_loops(1)"
   ]
  },
  {
   "cell_type": "code",
   "execution_count": 92,
   "metadata": {
    "collapsed": false
   },
   "outputs": [
    {
     "name": "stdout",
     "output_type": "stream",
     "text": [
      "done in 0.77, 26.11 ops/sec\n"
     ]
    }
   ],
   "source": [
    "parallel_loops(2)"
   ]
  },
  {
   "cell_type": "code",
   "execution_count": 93,
   "metadata": {
    "collapsed": false
   },
   "outputs": [
    {
     "name": "stdout",
     "output_type": "stream",
     "text": [
      "done in 0.82, 36.37 ops/sec\n"
     ]
    }
   ],
   "source": [
    "parallel_loops(3)"
   ]
  },
  {
   "cell_type": "code",
   "execution_count": 94,
   "metadata": {
    "collapsed": false
   },
   "outputs": [
    {
     "name": "stdout",
     "output_type": "stream",
     "text": [
      "done in 0.89, 45.15 ops/sec\n"
     ]
    }
   ],
   "source": [
    "parallel_loops(4)"
   ]
  },
  {
   "cell_type": "code",
   "execution_count": 7,
   "metadata": {
    "collapsed": true
   },
   "outputs": [
    {
     "name": "stdout",
     "output_type": "stream",
     "text": [
      "done in 1.45, 55.32 ops/sec\n"
     ]
    }
   ],
   "source": [
    "parallel_loops(8)"
   ]
  },
  {
   "cell_type": "code",
   "execution_count": 83,
   "metadata": {},
   "outputs": [],
   "source": [
    "import multiprocessing\n",
    "\n",
    "def worker(n):\n",
    "    \"\"\"thread worker function\"\"\"\n",
    "    env = Chess()\n",
    "    turn_count = 0\n",
    "    num_games = 10\n",
    "    t0 = time.time()\n",
    "    for i in range(num_games):\n",
    "        env.reset()\n",
    "        while env.get_reward() is None:\n",
    "            legal_moves = env.get_legal_moves()\n",
    "            move = random.choice(legal_moves)\n",
    "            env.make_move(move)\n",
    "            turn_count += 1\n",
    "    dt = time.time() - t0\n",
    "    # print('turn count:', turn_count, 'time:', dt, 'turns/second:', turn_count / dt)    print('Worker:', num)\n",
    "    return turn_count, dt, turn_count / dt\n",
    "\n",
    "\n",
    "def run(processes, tasks):\n",
    "    pool = multiprocessing.Pool(processes=processes)\n",
    "    res = np.array(pool.map(worker, range(tasks)))\n",
    "    return res"
   ]
  },
  {
   "cell_type": "code",
   "execution_count": 86,
   "metadata": {},
   "outputs": [
    {
     "name": "stdout",
     "output_type": "stream",
     "text": [
      "total turn count: 55843.0\nwall time: 31.80108404159546\nturns/second: 1756.00932116\n"
     ]
    }
   ],
   "source": [
    "t0 = time.time()\n",
    "res = run(1, 16)\n",
    "dt = time.time() - t0\n",
    "\n",
    "print('total turn count:', res[:, 0].sum())\n",
    "print('wall time:', dt)\n",
    "print('turns/second:', res[:, 0].sum() / dt)"
   ]
  },
  {
   "cell_type": "code",
   "execution_count": 87,
   "metadata": {},
   "outputs": [
    {
     "name": "stdout",
     "output_type": "stream",
     "text": [
      "total turn count: 57668.0\nwall time: 15.944632053375244\nturns/second: 3616.76580601\n"
     ]
    }
   ],
   "source": [
    "t0 = time.time()\n",
    "res = run(2, 16)\n",
    "dt = time.time() - t0\n",
    "\n",
    "print('total turn count:', res[:, 0].sum())\n",
    "print('wall time:', dt)\n",
    "print('turns/second:', res[:, 0].sum() / dt)"
   ]
  },
  {
   "cell_type": "code",
   "execution_count": 88,
   "metadata": {},
   "outputs": [
    {
     "name": "stdout",
     "output_type": "stream",
     "text": [
      "total turn count: 56989.0\nwall time: 8.206257104873657\nturns/second: 6944.5789075\n"
     ]
    }
   ],
   "source": [
    "t0 = time.time()\n",
    "res = run(4, 16)\n",
    "dt = time.time() - t0\n",
    "\n",
    "print('total turn count:', res[:, 0].sum())\n",
    "print('wall time:', dt)\n",
    "print('turns/second:', res[:, 0].sum() / dt)"
   ]
  },
  {
   "cell_type": "code",
   "execution_count": 89,
   "metadata": {},
   "outputs": [
    {
     "name": "stdout",
     "output_type": "stream",
     "text": [
      "total turn count: 54174.0\nwall time: 8.062294960021973\nturns/second: 6719.42669781\n"
     ]
    }
   ],
   "source": [
    "t0 = time.time()\n",
    "res = run(8, 16)\n",
    "dt = time.time() - t0\n",
    "\n",
    "print('total turn count:', res[:, 0].sum())\n",
    "print('wall time:', dt)\n",
    "print('turns/second:', res[:, 0].sum() / dt)"
   ]
  },
  {
   "cell_type": "code",
   "execution_count": 4,
   "metadata": {},
   "outputs": [],
   "source": [
    "cluster_spec = tf.train.ClusterSpec({\"local\": [\"localhost:2222\", \"localhost:2223\"]})"
   ]
  },
  {
   "cell_type": "code",
   "execution_count": 7,
   "metadata": {},
   "outputs": [
    {
     "data": {
      "text/plain": [
       "['localhost:2222', 'localhost:2223']"
      ]
     },
     "execution_count": 7,
     "metadata": {},
     "output_type": "execute_result"
    }
   ],
   "source": [
    "cluster_spec.job_tasks('local')"
   ]
  },
  {
   "cell_type": "code",
   "execution_count": null,
   "metadata": {},
   "outputs": [],
   "source": [
    ""
   ]
  }
 ],
 "metadata": {
  "kernelspec": {
   "display_name": "Python [conda root]",
   "language": "python",
   "name": "conda-root-py"
  },
  "language_info": {
   "codemirror_mode": {
    "name": "ipython",
    "version": 3.0
   },
   "file_extension": ".py",
   "mimetype": "text/x-python",
   "name": "python",
   "nbconvert_exporter": "python",
   "pygments_lexer": "ipython3",
   "version": "3.5.2"
  }
 },
 "nbformat": 4,
 "nbformat_minor": 0
}